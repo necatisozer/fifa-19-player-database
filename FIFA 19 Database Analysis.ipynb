{
 "cells": [
  {
   "cell_type": "markdown",
   "source": [
    "# <center> <font color = tomato> FIFA 19 PLAYER DATA BASE ANALYSIS\n"
   ],
   "metadata": {
    "collapsed": false
   }
  },
  {
   "cell_type": "markdown",
   "source": [
    "## <center> <font color = darkorange> Introduction\n",
    "<font color=yellow> In this Python project, we will look for answers of the critical questions about FIFA 19 Player Database.\n"
   ],
   "metadata": {
    "collapsed": false
   }
  },
  {
   "cell_type": "markdown",
   "source": [
    "## <center> <font color = darkorange> Codebase\n"
   ],
   "metadata": {
    "collapsed": false
   }
  },
  {
   "cell_type": "markdown",
   "source": [
    "### <font color = darkorange> Import dependencies\n",
    "<font color=yellow> We used 'pandas' library for data operations and 'pyplot' collection of 'matplotlib' library for visual figures\n"
   ],
   "metadata": {
    "collapsed": false
   }
  },
  {
   "cell_type": "code",
   "execution_count": 1,
   "outputs": [],
   "source": [
    "import pandas as pd\n",
    "import matplotlib.pyplot as plt\n"
   ],
   "metadata": {
    "collapsed": false,
    "pycharm": {
     "name": "#%%\n",
     "is_executing": false
    }
   }
  },
  {
   "cell_type": "markdown",
   "source": [
    "### <font color = darkorange> Read database\n"
   ],
   "metadata": {
    "collapsed": false
   }
  },
  {
   "cell_type": "code",
   "execution_count": 2,
   "outputs": [
    {
     "data": {
      "text/plain": "       ID               Name  Age  \\\n0  158023           L. Messi   31   \n1   20801  Cristiano Ronaldo   33   \n2  190871          Neymar Jr   26   \n3  193080             De Gea   27   \n4  192985       K. De Bruyne   27   \n\n                                            Photo Nationality  \\\n0  https://cdn.sofifa.org/players/4/19/158023.png   Argentina   \n1   https://cdn.sofifa.org/players/4/19/20801.png    Portugal   \n2  https://cdn.sofifa.org/players/4/19/190871.png      Brazil   \n3  https://cdn.sofifa.org/players/4/19/193080.png       Spain   \n4  https://cdn.sofifa.org/players/4/19/192985.png     Belgium   \n\n                                  Flag  Overall  Potential  \\\n0  https://cdn.sofifa.org/flags/52.png       94         94   \n1  https://cdn.sofifa.org/flags/38.png       94         94   \n2  https://cdn.sofifa.org/flags/54.png       92         93   \n3  https://cdn.sofifa.org/flags/45.png       91         93   \n4   https://cdn.sofifa.org/flags/7.png       91         92   \n\n                  Club                                     Club Logo  ...  \\\n0         FC Barcelona  https://cdn.sofifa.org/teams/2/light/241.png  ...   \n1             Juventus   https://cdn.sofifa.org/teams/2/light/45.png  ...   \n2  Paris Saint-Germain   https://cdn.sofifa.org/teams/2/light/73.png  ...   \n3    Manchester United   https://cdn.sofifa.org/teams/2/light/11.png  ...   \n4      Manchester City   https://cdn.sofifa.org/teams/2/light/10.png  ...   \n\n  Composure Marking  StandingTackle SlidingTackle  GKDiving  GKHandling  \\\n0      96.0    33.0            28.0          26.0       6.0        11.0   \n1      95.0    28.0            31.0          23.0       7.0        11.0   \n2      94.0    27.0            24.0          33.0       9.0         9.0   \n3      68.0    15.0            21.0          13.0      90.0        85.0   \n4      88.0    68.0            58.0          51.0      15.0        13.0   \n\n   GKKicking GKPositioning GKReflexes Release Clause  \n0       15.0          14.0        8.0        €226.5M  \n1       15.0          14.0       11.0        €127.1M  \n2       15.0          15.0       11.0        €228.1M  \n3       87.0          88.0       94.0        €138.6M  \n4        5.0          10.0       13.0        €196.4M  \n\n[5 rows x 88 columns]",
      "text/html": "<div>\n<style scoped>\n    .dataframe tbody tr th:only-of-type {\n        vertical-align: middle;\n    }\n\n    .dataframe tbody tr th {\n        vertical-align: top;\n    }\n\n    .dataframe thead th {\n        text-align: right;\n    }\n</style>\n<table border=\"1\" class=\"dataframe\">\n  <thead>\n    <tr style=\"text-align: right;\">\n      <th></th>\n      <th>ID</th>\n      <th>Name</th>\n      <th>Age</th>\n      <th>Photo</th>\n      <th>Nationality</th>\n      <th>Flag</th>\n      <th>Overall</th>\n      <th>Potential</th>\n      <th>Club</th>\n      <th>Club Logo</th>\n      <th>...</th>\n      <th>Composure</th>\n      <th>Marking</th>\n      <th>StandingTackle</th>\n      <th>SlidingTackle</th>\n      <th>GKDiving</th>\n      <th>GKHandling</th>\n      <th>GKKicking</th>\n      <th>GKPositioning</th>\n      <th>GKReflexes</th>\n      <th>Release Clause</th>\n    </tr>\n  </thead>\n  <tbody>\n    <tr>\n      <th>0</th>\n      <td>158023</td>\n      <td>L. Messi</td>\n      <td>31</td>\n      <td>https://cdn.sofifa.org/players/4/19/158023.png</td>\n      <td>Argentina</td>\n      <td>https://cdn.sofifa.org/flags/52.png</td>\n      <td>94</td>\n      <td>94</td>\n      <td>FC Barcelona</td>\n      <td>https://cdn.sofifa.org/teams/2/light/241.png</td>\n      <td>...</td>\n      <td>96.0</td>\n      <td>33.0</td>\n      <td>28.0</td>\n      <td>26.0</td>\n      <td>6.0</td>\n      <td>11.0</td>\n      <td>15.0</td>\n      <td>14.0</td>\n      <td>8.0</td>\n      <td>€226.5M</td>\n    </tr>\n    <tr>\n      <th>1</th>\n      <td>20801</td>\n      <td>Cristiano Ronaldo</td>\n      <td>33</td>\n      <td>https://cdn.sofifa.org/players/4/19/20801.png</td>\n      <td>Portugal</td>\n      <td>https://cdn.sofifa.org/flags/38.png</td>\n      <td>94</td>\n      <td>94</td>\n      <td>Juventus</td>\n      <td>https://cdn.sofifa.org/teams/2/light/45.png</td>\n      <td>...</td>\n      <td>95.0</td>\n      <td>28.0</td>\n      <td>31.0</td>\n      <td>23.0</td>\n      <td>7.0</td>\n      <td>11.0</td>\n      <td>15.0</td>\n      <td>14.0</td>\n      <td>11.0</td>\n      <td>€127.1M</td>\n    </tr>\n    <tr>\n      <th>2</th>\n      <td>190871</td>\n      <td>Neymar Jr</td>\n      <td>26</td>\n      <td>https://cdn.sofifa.org/players/4/19/190871.png</td>\n      <td>Brazil</td>\n      <td>https://cdn.sofifa.org/flags/54.png</td>\n      <td>92</td>\n      <td>93</td>\n      <td>Paris Saint-Germain</td>\n      <td>https://cdn.sofifa.org/teams/2/light/73.png</td>\n      <td>...</td>\n      <td>94.0</td>\n      <td>27.0</td>\n      <td>24.0</td>\n      <td>33.0</td>\n      <td>9.0</td>\n      <td>9.0</td>\n      <td>15.0</td>\n      <td>15.0</td>\n      <td>11.0</td>\n      <td>€228.1M</td>\n    </tr>\n    <tr>\n      <th>3</th>\n      <td>193080</td>\n      <td>De Gea</td>\n      <td>27</td>\n      <td>https://cdn.sofifa.org/players/4/19/193080.png</td>\n      <td>Spain</td>\n      <td>https://cdn.sofifa.org/flags/45.png</td>\n      <td>91</td>\n      <td>93</td>\n      <td>Manchester United</td>\n      <td>https://cdn.sofifa.org/teams/2/light/11.png</td>\n      <td>...</td>\n      <td>68.0</td>\n      <td>15.0</td>\n      <td>21.0</td>\n      <td>13.0</td>\n      <td>90.0</td>\n      <td>85.0</td>\n      <td>87.0</td>\n      <td>88.0</td>\n      <td>94.0</td>\n      <td>€138.6M</td>\n    </tr>\n    <tr>\n      <th>4</th>\n      <td>192985</td>\n      <td>K. De Bruyne</td>\n      <td>27</td>\n      <td>https://cdn.sofifa.org/players/4/19/192985.png</td>\n      <td>Belgium</td>\n      <td>https://cdn.sofifa.org/flags/7.png</td>\n      <td>91</td>\n      <td>92</td>\n      <td>Manchester City</td>\n      <td>https://cdn.sofifa.org/teams/2/light/10.png</td>\n      <td>...</td>\n      <td>88.0</td>\n      <td>68.0</td>\n      <td>58.0</td>\n      <td>51.0</td>\n      <td>15.0</td>\n      <td>13.0</td>\n      <td>5.0</td>\n      <td>10.0</td>\n      <td>13.0</td>\n      <td>€196.4M</td>\n    </tr>\n  </tbody>\n</table>\n<p>5 rows × 88 columns</p>\n</div>"
     },
     "metadata": {},
     "output_type": "execute_result",
     "execution_count": 2
    }
   ],
   "source": [
    "players = pd.read_csv('data.csv', index_col = 0)\n",
    "players.head()\n"
   ],
   "metadata": {
    "collapsed": false,
    "pycharm": {
     "name": "#%%\n",
     "is_executing": false
    }
   }
  },
  {
   "cell_type": "markdown",
   "source": [
    "### <center><font color = darkorange> Question: Do only young players have potential of growth or are there aged players that can grow up?\n"
   ],
   "metadata": {
    "collapsed": false
   }
  },
  {
   "cell_type": "markdown",
   "source": [
    "<font color=yellow> To answer this question, we calculate player growths by subtracting current player overalls from their potentials.\n"
   ],
   "metadata": {
    "collapsed": false
   }
  },
  {
   "cell_type": "code",
   "execution_count": 3,
   "outputs": [
    {
     "data": {
      "text/plain": "                Name  Overall  Potential  Growth\n0           L. Messi       94         94       0\n1  Cristiano Ronaldo       94         94       0\n2          Neymar Jr       92         93       1\n3             De Gea       91         93       2\n4       K. De Bruyne       91         92       1",
      "text/html": "<div>\n<style scoped>\n    .dataframe tbody tr th:only-of-type {\n        vertical-align: middle;\n    }\n\n    .dataframe tbody tr th {\n        vertical-align: top;\n    }\n\n    .dataframe thead th {\n        text-align: right;\n    }\n</style>\n<table border=\"1\" class=\"dataframe\">\n  <thead>\n    <tr style=\"text-align: right;\">\n      <th></th>\n      <th>Name</th>\n      <th>Overall</th>\n      <th>Potential</th>\n      <th>Growth</th>\n    </tr>\n  </thead>\n  <tbody>\n    <tr>\n      <th>0</th>\n      <td>L. Messi</td>\n      <td>94</td>\n      <td>94</td>\n      <td>0</td>\n    </tr>\n    <tr>\n      <th>1</th>\n      <td>Cristiano Ronaldo</td>\n      <td>94</td>\n      <td>94</td>\n      <td>0</td>\n    </tr>\n    <tr>\n      <th>2</th>\n      <td>Neymar Jr</td>\n      <td>92</td>\n      <td>93</td>\n      <td>1</td>\n    </tr>\n    <tr>\n      <th>3</th>\n      <td>De Gea</td>\n      <td>91</td>\n      <td>93</td>\n      <td>2</td>\n    </tr>\n    <tr>\n      <th>4</th>\n      <td>K. De Bruyne</td>\n      <td>91</td>\n      <td>92</td>\n      <td>1</td>\n    </tr>\n  </tbody>\n</table>\n</div>"
     },
     "metadata": {},
     "output_type": "execute_result",
     "execution_count": 3
    }
   ],
   "source": [
    "players['Growth'] = players['Potential'] - players['Overall']\n",
    "players[['Name', 'Overall', 'Potential', 'Growth']].head()\n"
   ],
   "metadata": {
    "collapsed": false,
    "pycharm": {
     "name": "#%%\n",
     "is_executing": false
    }
   }
  },
  {
   "cell_type": "markdown",
   "source": [
    "<font color=yellow> Then we calculate average growth of players at the same age.\n"
   ],
   "metadata": {
    "collapsed": false
   }
  },
  {
   "cell_type": "code",
   "execution_count": 4,
   "outputs": [
    {
     "name": "stdout",
     "text": [
      "Age\n16    18.738095\n17    17.934256\n18    15.788251\n19    13.563477\n20    11.354839\n21     9.477161\n22     7.825373\n23     6.310811\n24     4.773196\n25     3.316907\n26     1.661860\n27     0.759897\n28     0.230699\n29     0.111575\n30     0.004362\n31     0.000000\n32     0.000000\n33     0.000000\n34     0.000000\n35     0.000000\n36     0.000000\n37     0.000000\n38     0.000000\n39     0.000000\n40     0.000000\n41     0.000000\n42     0.000000\n44     0.000000\n45     0.000000\nName: Growth, dtype: float64\n"
     ],
     "output_type": "stream"
    },
    {
     "data": {
      "text/plain": "[<matplotlib.lines.Line2D at 0x101bb9908>]"
     },
     "metadata": {},
     "output_type": "execute_result",
     "execution_count": 4
    },
    {
     "data": {
      "text/plain": "<Figure size 432x288 with 1 Axes>",
      "image/png": "[encoded data removed]"
     },
     "metadata": {
      "needs_background": "light"
     },
     "output_type": "display_data"
    }
   ],
   "source": [
    "growth_by_age = players.groupby('Age')['Growth'].mean()\n",
    "print(growth_by_age)\n",
    "plt.xlabel('Age')\n",
    "plt.ylabel('Growth')\n",
    "plt.plot(growth_by_age)\n"
   ],
   "metadata": {
    "collapsed": false,
    "pycharm": {
     "name": "#%%\n",
     "is_executing": false
    }
   }
  },
  {
   "cell_type": "markdown",
   "source": [
    "<font color=yellow> As we consider players who are older than 25 as \"aged\", let's check aged players who can grow more than 4 points.\n"
   ],
   "metadata": {
    "collapsed": false
   }
  },
  {
   "cell_type": "code",
   "execution_count": 5,
   "outputs": [
    {
     "name": "stderr",
     "text": [
      "/Users/necati/PycharmProjects/fifa-19-player-database/venv/lib/python3.7/site-packages/ipykernel_launcher.py:2: UserWarning: Boolean Series key will be reindexed to match DataFrame index.\n  \n"
     ],
     "output_type": "stream"
    },
    {
     "data": {
      "text/plain": "                  Name  Overall  Potential  Growth\n438           G. Rulli       80         85       5\n845        Sergi Gómez       78         83       5\n1330           A. Izzo       76         81       5\n1831          F. Schär       75         80       5\n2415       A. Soumaoro       74         79       5\n2945       Y. Gordillo       73         78       5\n3276     F. Ceccherini       72         77       5\n3697       A. Shabanov       72         77       5\n3867            Luismi       72         77       5\n4606        L. Lacroix       71         76       5\n4869         C. Ascues       70         75       5\n4968            N. Paz       70         75       5\n5527       L. Quintana       70         75       5\n5778         Y. Cabral       69         74       5\n6543        L. Caicedo       69         74       5\n8135       R. Williams       67         72       5\n8214      C. Sepúlveda       67         72       5\n8224        G. Trauner       67         72       5\n8412             Neris       67         72       5\n9562          J. Walsh       66         71       5\n9591      J. Żubrowski       66         71       5\n9841        J. Aguirre       66         71       5\n10000      J. Haugaard       65         70       5\n10498       S. Ibeagha       65         70       5\n11354         H. Silva       64         69       5\n11751     A. Ingegneri       64         69       5\n12345        C. Bolger       63         68       5\n12811  G. Singh Sandhu       63         68       5\n12979       W. Viitala       63         68       5\n13488         A. Falch       62         67       5\n14142   E. Edwards Jr.       61         66       5\n14909         B. Moore       60         65       5\n15678       A. Jędrych       59         64       5\n16546         C. Brown       57         62       5\n16714       A. Grinwis       56         61       5\n16824          C. Lyon       56         61       5",
      "text/html": "<div>\n<style scoped>\n    .dataframe tbody tr th:only-of-type {\n        vertical-align: middle;\n    }\n\n    .dataframe tbody tr th {\n        vertical-align: top;\n    }\n\n    .dataframe thead th {\n        text-align: right;\n    }\n</style>\n<table border=\"1\" class=\"dataframe\">\n  <thead>\n    <tr style=\"text-align: right;\">\n      <th></th>\n      <th>Name</th>\n      <th>Overall</th>\n      <th>Potential</th>\n      <th>Growth</th>\n    </tr>\n  </thead>\n  <tbody>\n    <tr>\n      <th>438</th>\n      <td>G. Rulli</td>\n      <td>80</td>\n      <td>85</td>\n      <td>5</td>\n    </tr>\n    <tr>\n      <th>845</th>\n      <td>Sergi Gómez</td>\n      <td>78</td>\n      <td>83</td>\n      <td>5</td>\n    </tr>\n    <tr>\n      <th>1330</th>\n      <td>A. Izzo</td>\n      <td>76</td>\n      <td>81</td>\n      <td>5</td>\n    </tr>\n    <tr>\n      <th>1831</th>\n      <td>F. Schär</td>\n      <td>75</td>\n      <td>80</td>\n      <td>5</td>\n    </tr>\n    <tr>\n      <th>2415</th>\n      <td>A. Soumaoro</td>\n      <td>74</td>\n      <td>79</td>\n      <td>5</td>\n    </tr>\n    <tr>\n      <th>2945</th>\n      <td>Y. Gordillo</td>\n      <td>73</td>\n      <td>78</td>\n      <td>5</td>\n    </tr>\n    <tr>\n      <th>3276</th>\n      <td>F. Ceccherini</td>\n      <td>72</td>\n      <td>77</td>\n      <td>5</td>\n    </tr>\n    <tr>\n      <th>3697</th>\n      <td>A. Shabanov</td>\n      <td>72</td>\n      <td>77</td>\n      <td>5</td>\n    </tr>\n    <tr>\n      <th>3867</th>\n      <td>Luismi</td>\n      <td>72</td>\n      <td>77</td>\n      <td>5</td>\n    </tr>\n    <tr>\n      <th>4606</th>\n      <td>L. Lacroix</td>\n      <td>71</td>\n      <td>76</td>\n      <td>5</td>\n    </tr>\n    <tr>\n      <th>4869</th>\n      <td>C. Ascues</td>\n      <td>70</td>\n      <td>75</td>\n      <td>5</td>\n    </tr>\n    <tr>\n      <th>4968</th>\n      <td>N. Paz</td>\n      <td>70</td>\n      <td>75</td>\n      <td>5</td>\n    </tr>\n    <tr>\n      <th>5527</th>\n      <td>L. Quintana</td>\n      <td>70</td>\n      <td>75</td>\n      <td>5</td>\n    </tr>\n    <tr>\n      <th>5778</th>\n      <td>Y. Cabral</td>\n      <td>69</td>\n      <td>74</td>\n      <td>5</td>\n    </tr>\n    <tr>\n      <th>6543</th>\n      <td>L. Caicedo</td>\n      <td>69</td>\n      <td>74</td>\n      <td>5</td>\n    </tr>\n    <tr>\n      <th>8135</th>\n      <td>R. Williams</td>\n      <td>67</td>\n      <td>72</td>\n      <td>5</td>\n    </tr>\n    <tr>\n      <th>8214</th>\n      <td>C. Sepúlveda</td>\n      <td>67</td>\n      <td>72</td>\n      <td>5</td>\n    </tr>\n    <tr>\n      <th>8224</th>\n      <td>G. Trauner</td>\n      <td>67</td>\n      <td>72</td>\n      <td>5</td>\n    </tr>\n    <tr>\n      <th>8412</th>\n      <td>Neris</td>\n      <td>67</td>\n      <td>72</td>\n      <td>5</td>\n    </tr>\n    <tr>\n      <th>9562</th>\n      <td>J. Walsh</td>\n      <td>66</td>\n      <td>71</td>\n      <td>5</td>\n    </tr>\n    <tr>\n      <th>9591</th>\n      <td>J. Żubrowski</td>\n      <td>66</td>\n      <td>71</td>\n      <td>5</td>\n    </tr>\n    <tr>\n      <th>9841</th>\n      <td>J. Aguirre</td>\n      <td>66</td>\n      <td>71</td>\n      <td>5</td>\n    </tr>\n    <tr>\n      <th>10000</th>\n      <td>J. Haugaard</td>\n      <td>65</td>\n      <td>70</td>\n      <td>5</td>\n    </tr>\n    <tr>\n      <th>10498</th>\n      <td>S. Ibeagha</td>\n      <td>65</td>\n      <td>70</td>\n      <td>5</td>\n    </tr>\n    <tr>\n      <th>11354</th>\n      <td>H. Silva</td>\n      <td>64</td>\n      <td>69</td>\n      <td>5</td>\n    </tr>\n    <tr>\n      <th>11751</th>\n      <td>A. Ingegneri</td>\n      <td>64</td>\n      <td>69</td>\n      <td>5</td>\n    </tr>\n    <tr>\n      <th>12345</th>\n      <td>C. Bolger</td>\n      <td>63</td>\n      <td>68</td>\n      <td>5</td>\n    </tr>\n    <tr>\n      <th>12811</th>\n      <td>G. Singh Sandhu</td>\n      <td>63</td>\n      <td>68</td>\n      <td>5</td>\n    </tr>\n    <tr>\n      <th>12979</th>\n      <td>W. Viitala</td>\n      <td>63</td>\n      <td>68</td>\n      <td>5</td>\n    </tr>\n    <tr>\n      <th>13488</th>\n      <td>A. Falch</td>\n      <td>62</td>\n      <td>67</td>\n      <td>5</td>\n    </tr>\n    <tr>\n      <th>14142</th>\n      <td>E. Edwards Jr.</td>\n      <td>61</td>\n      <td>66</td>\n      <td>5</td>\n    </tr>\n    <tr>\n      <th>14909</th>\n      <td>B. Moore</td>\n      <td>60</td>\n      <td>65</td>\n      <td>5</td>\n    </tr>\n    <tr>\n      <th>15678</th>\n      <td>A. Jędrych</td>\n      <td>59</td>\n      <td>64</td>\n      <td>5</td>\n    </tr>\n    <tr>\n      <th>16546</th>\n      <td>C. Brown</td>\n      <td>57</td>\n      <td>62</td>\n      <td>5</td>\n    </tr>\n    <tr>\n      <th>16714</th>\n      <td>A. Grinwis</td>\n      <td>56</td>\n      <td>61</td>\n      <td>5</td>\n    </tr>\n    <tr>\n      <th>16824</th>\n      <td>C. Lyon</td>\n      <td>56</td>\n      <td>61</td>\n      <td>5</td>\n    </tr>\n  </tbody>\n</table>\n</div>"
     },
     "metadata": {},
     "output_type": "execute_result",
     "execution_count": 5
    }
   ],
   "source": [
    "aged_players = players[players['Age'] > 25]\n",
    "aged_players[players['Growth'] > 4][['Name', 'Overall', 'Potential', 'Growth']]\n"
   ],
   "metadata": {
    "collapsed": false,
    "pycharm": {
     "name": "#%%\n",
     "is_executing": false
    }
   }
  },
  {
   "cell_type": "markdown",
   "source": [
    "<font color=yellow> How about more than 5?\n"
   ],
   "metadata": {
    "collapsed": false
   }
  },
  {
   "cell_type": "code",
   "execution_count": 6,
   "outputs": [
    {
     "name": "stderr",
     "text": [
      "/Users/necati/PycharmProjects/fifa-19-player-database/venv/lib/python3.7/site-packages/ipykernel_launcher.py:1: UserWarning: Boolean Series key will be reindexed to match DataFrame index.\n  \"\"\"Entry point for launching an IPython kernel.\n"
     ],
     "output_type": "stream"
    },
    {
     "data": {
      "text/plain": "Empty DataFrame\nColumns: [Name, Overall, Potential, Growth]\nIndex: []",
      "text/html": "<div>\n<style scoped>\n    .dataframe tbody tr th:only-of-type {\n        vertical-align: middle;\n    }\n\n    .dataframe tbody tr th {\n        vertical-align: top;\n    }\n\n    .dataframe thead th {\n        text-align: right;\n    }\n</style>\n<table border=\"1\" class=\"dataframe\">\n  <thead>\n    <tr style=\"text-align: right;\">\n      <th></th>\n      <th>Name</th>\n      <th>Overall</th>\n      <th>Potential</th>\n      <th>Growth</th>\n    </tr>\n  </thead>\n  <tbody>\n  </tbody>\n</table>\n</div>"
     },
     "metadata": {},
     "output_type": "execute_result",
     "execution_count": 6
    }
   ],
   "source": [
    "aged_players[players['Growth'] > 5][['Name', 'Overall', 'Potential', 'Growth']]\n"
   ],
   "metadata": {
    "collapsed": false,
    "pycharm": {
     "name": "#%%\n",
     "is_executing": false
    }
   }
  },
  {
   "cell_type": "markdown",
   "source": [
    "<font color=yellow> Result: We can easily say that aged players does not have much potential to grow up besides a few.\n"
   ],
   "metadata": {
    "collapsed": false
   }
  },
  {
   "cell_type": "markdown",
   "source": [
    "### <center> <font color = darkorange> Question: Which countries have the best potentially growing players?\n"
   ],
   "metadata": {
    "collapsed": false
   }
  },
  {
   "cell_type": "markdown",
   "source": [
    "<font color = yellow> To answer this question, we find average growth of players in descending order.\n"
   ],
   "metadata": {
    "collapsed": false
   }
  },
  {
   "cell_type": "code",
   "execution_count": 7,
   "outputs": [
    {
     "data": {
      "text/plain": "Nationality\nIndonesia               18.000000\nBotswana                12.000000\nZambia                   8.555556\nDominican Republic       8.500000\nRwanda                   8.000000\nChad                     8.000000\nLuxembourg               7.500000\nJordan                   7.000000\nMoldova                  7.000000\nBurundi                  7.000000\nTanzania                 7.000000\nAfghanistan              6.750000\nCuba                     6.750000\nGambia                   6.733333\nNigeria                  6.719008\nEngland                  6.607702\nSwitzerland              6.504545\nPhilippines              6.500000\nHaiti                    6.500000\nDenmark                  6.333333\nScotland                 6.290210\nCanada                   6.281250\nNorway                   6.275660\nKosovo                   6.242424\nMexico                   6.090164\nGhana                    6.043860\nRepublic of Ireland      6.002717\nHong Kong                6.000000\nCyprus                   6.000000\nVenezuela                5.880597\n                          ...    \nBrazil                   2.100363\nJamaica                  2.093750\nMalta                    2.000000\nAndorra                  2.000000\nMadagascar               1.916667\nComoros                  1.833333\nKazakhstan               1.750000\nBarbados                 1.666667\nTogo                     1.583333\nSt Kitts Nevis           1.333333\nMauritius                1.000000\nUnited Arab Emirates     1.000000\nEritrea                  1.000000\nBelize                   1.000000\nIsrael                   0.857143\nBelarus                  0.750000\nBermuda                  0.000000\nSão Tomé & Príncipe      0.000000\nNew Caledonia            0.000000\nGuam                     0.000000\nTrinidad & Tobago        0.000000\nLebanon                  0.000000\nKuwait                   0.000000\nFiji                     0.000000\nNicaragua                0.000000\nEthiopia                 0.000000\nOman                     0.000000\nPalestine                0.000000\nUzbekistan               0.000000\nPuerto Rico              0.000000\nName: Growth, Length: 164, dtype: float64"
     },
     "metadata": {},
     "output_type": "execute_result",
     "execution_count": 7
    }
   ],
   "source": [
    "players.groupby('Nationality')['Growth'].mean().sort_values(ascending = False)\n"
   ],
   "metadata": {
    "collapsed": false,
    "pycharm": {
     "name": "#%%\n",
     "is_executing": false
    }
   }
  },
  {
   "cell_type": "markdown",
   "source": [
    "<font color=yellow> Result: Unless the expected, some less known countries have potentially growing players.\n"
   ],
   "metadata": {
    "collapsed": false
   }
  },
  {
   "cell_type": "markdown",
   "source": [
    "### <center> <font color = darkorange> Question: Are current clubs effective on players' value and wage?\n"
   ],
   "metadata": {
    "collapsed": false
   }
  },
  {
   "cell_type": "markdown",
   "source": [
    "<font color = yellow> To answer this question, we are going to need 'Value' and 'Wage' columns.\n"
   ],
   "metadata": {
    "collapsed": false
   }
  },
  {
   "cell_type": "code",
   "execution_count": 8,
   "outputs": [
    {
     "data": {
      "text/plain": "                Name    Value   Wage\n0           L. Messi  €110.5M  €565K\n1  Cristiano Ronaldo     €77M  €405K\n2          Neymar Jr  €118.5M  €290K\n3             De Gea     €72M  €260K\n4       K. De Bruyne    €102M  €355K",
      "text/html": "<div>\n<style scoped>\n    .dataframe tbody tr th:only-of-type {\n        vertical-align: middle;\n    }\n\n    .dataframe tbody tr th {\n        vertical-align: top;\n    }\n\n    .dataframe thead th {\n        text-align: right;\n    }\n</style>\n<table border=\"1\" class=\"dataframe\">\n  <thead>\n    <tr style=\"text-align: right;\">\n      <th></th>\n      <th>Name</th>\n      <th>Value</th>\n      <th>Wage</th>\n    </tr>\n  </thead>\n  <tbody>\n    <tr>\n      <th>0</th>\n      <td>L. Messi</td>\n      <td>€110.5M</td>\n      <td>€565K</td>\n    </tr>\n    <tr>\n      <th>1</th>\n      <td>Cristiano Ronaldo</td>\n      <td>€77M</td>\n      <td>€405K</td>\n    </tr>\n    <tr>\n      <th>2</th>\n      <td>Neymar Jr</td>\n      <td>€118.5M</td>\n      <td>€290K</td>\n    </tr>\n    <tr>\n      <th>3</th>\n      <td>De Gea</td>\n      <td>€72M</td>\n      <td>€260K</td>\n    </tr>\n    <tr>\n      <th>4</th>\n      <td>K. De Bruyne</td>\n      <td>€102M</td>\n      <td>€355K</td>\n    </tr>\n  </tbody>\n</table>\n</div>"
     },
     "metadata": {},
     "output_type": "execute_result",
     "execution_count": 8
    }
   ],
   "source": [
    "players[['Name', 'Value', 'Wage']].head()\n"
   ],
   "metadata": {
    "collapsed": false,
    "pycharm": {
     "name": "#%%\n",
     "is_executing": false
    }
   }
  },
  {
   "cell_type": "markdown",
   "source": [
    "<font color = yellow> However, these columns are string. There is '€' character at the beginning and 'M' and 'K' characters for million and thousand at the end. We eliminate these characters and multiply values by proper multipliers.\n"
   ],
   "metadata": {
    "collapsed": false
   }
  },
  {
   "cell_type": "code",
   "execution_count": 9,
   "outputs": [
    {
     "data": {
      "text/plain": "                Name    Value  Value (K€)   Wage  Wage (K€)\n0           L. Messi  €110.5M    110500.0  €565K      565.0\n1  Cristiano Ronaldo     €77M     77000.0  €405K      405.0\n2          Neymar Jr  €118.5M    118500.0  €290K      290.0\n3             De Gea     €72M     72000.0  €260K      260.0\n4       K. De Bruyne    €102M    102000.0  €355K      355.0",
      "text/html": "<div>\n<style scoped>\n    .dataframe tbody tr th:only-of-type {\n        vertical-align: middle;\n    }\n\n    .dataframe tbody tr th {\n        vertical-align: top;\n    }\n\n    .dataframe thead th {\n        text-align: right;\n    }\n</style>\n<table border=\"1\" class=\"dataframe\">\n  <thead>\n    <tr style=\"text-align: right;\">\n      <th></th>\n      <th>Name</th>\n      <th>Value</th>\n      <th>Value (K€)</th>\n      <th>Wage</th>\n      <th>Wage (K€)</th>\n    </tr>\n  </thead>\n  <tbody>\n    <tr>\n      <th>0</th>\n      <td>L. Messi</td>\n      <td>€110.5M</td>\n      <td>110500.0</td>\n      <td>€565K</td>\n      <td>565.0</td>\n    </tr>\n    <tr>\n      <th>1</th>\n      <td>Cristiano Ronaldo</td>\n      <td>€77M</td>\n      <td>77000.0</td>\n      <td>€405K</td>\n      <td>405.0</td>\n    </tr>\n    <tr>\n      <th>2</th>\n      <td>Neymar Jr</td>\n      <td>€118.5M</td>\n      <td>118500.0</td>\n      <td>€290K</td>\n      <td>290.0</td>\n    </tr>\n    <tr>\n      <th>3</th>\n      <td>De Gea</td>\n      <td>€72M</td>\n      <td>72000.0</td>\n      <td>€260K</td>\n      <td>260.0</td>\n    </tr>\n    <tr>\n      <th>4</th>\n      <td>K. De Bruyne</td>\n      <td>€102M</td>\n      <td>102000.0</td>\n      <td>€355K</td>\n      <td>355.0</td>\n    </tr>\n  </tbody>\n</table>\n</div>"
     },
     "metadata": {},
     "output_type": "execute_result",
     "execution_count": 9
    }
   ],
   "source": [
    "for index, row in players.iterrows():\n",
    "    players.at[index, 'Value (K€)'] = float(row['Value'].translate({ord(i): None for i in '€KM'})) * (1000 if \"M\" in row['Value'] else 1)\n",
    "    players.at[index, 'Wage (K€)'] = float(row['Wage'].translate({ord(i): None for i in '€KM'})) * (1000 if \"M\" in row['Wage'] else 1)\n",
    "\n",
    "players[['Name', 'Value', 'Value (K€)', 'Wage', 'Wage (K€)']].head()\n",
    "    "
   ],
   "metadata": {
    "collapsed": false,
    "pycharm": {
     "name": "#%%\n",
     "is_executing": false
    }
   }
  },
  {
   "cell_type": "markdown",
   "source": [
    "<font color = yellow> Now we compare some players in similar conditions but in different clubs.\n"
   ],
   "metadata": {
    "collapsed": false
   }
  },
  {
   "cell_type": "markdown",
   "source": [
    "<font color = yellow> The first player grup has 75 overall, 23 years old central midfielders.\n"
   ],
   "metadata": {
    "collapsed": false
   }
  },
  {
   "cell_type": "code",
   "execution_count": 10,
   "outputs": [
    {
     "data": {
      "text/plain": "                   Name                 Club  Value  Wage\n1584  Lucas Evangelista            FC Nantes    €9M  €21K\n1687          A. Grassi                Parma  €9.5M  €43K\n1898         D. Cataldi                Lazio  €8.5M  €35K\n1903       M. Gaćinović  Eintracht Frankfurt    €9M  €26K",
      "text/html": "<div>\n<style scoped>\n    .dataframe tbody tr th:only-of-type {\n        vertical-align: middle;\n    }\n\n    .dataframe tbody tr th {\n        vertical-align: top;\n    }\n\n    .dataframe thead th {\n        text-align: right;\n    }\n</style>\n<table border=\"1\" class=\"dataframe\">\n  <thead>\n    <tr style=\"text-align: right;\">\n      <th></th>\n      <th>Name</th>\n      <th>Club</th>\n      <th>Value</th>\n      <th>Wage</th>\n    </tr>\n  </thead>\n  <tbody>\n    <tr>\n      <th>1584</th>\n      <td>Lucas Evangelista</td>\n      <td>FC Nantes</td>\n      <td>€9M</td>\n      <td>€21K</td>\n    </tr>\n    <tr>\n      <th>1687</th>\n      <td>A. Grassi</td>\n      <td>Parma</td>\n      <td>€9.5M</td>\n      <td>€43K</td>\n    </tr>\n    <tr>\n      <th>1898</th>\n      <td>D. Cataldi</td>\n      <td>Lazio</td>\n      <td>€8.5M</td>\n      <td>€35K</td>\n    </tr>\n    <tr>\n      <th>1903</th>\n      <td>M. Gaćinović</td>\n      <td>Eintracht Frankfurt</td>\n      <td>€9M</td>\n      <td>€26K</td>\n    </tr>\n  </tbody>\n</table>\n</div>"
     },
     "metadata": {},
     "output_type": "execute_result",
     "execution_count": 10
    }
   ],
   "source": [
    "player_set = players[(players['Overall'] == 75) & (players['Age'] == 23) & (players['Position'] == 'CM')]\n",
    "player_set[['Name', 'Club', 'Value', 'Wage']]\n"
   ],
   "metadata": {
    "collapsed": false,
    "pycharm": {
     "name": "#%%\n",
     "is_executing": false
    }
   }
  },
  {
   "cell_type": "markdown",
   "source": [
    "<font color = yellow> Let's check average player values of these clubs\n"
   ],
   "metadata": {
    "collapsed": false
   }
  },
  {
   "cell_type": "code",
   "execution_count": 11,
   "outputs": [
    {
     "data": {
      "text/plain": "                       Value (K€)  Wage (K€)\nClub                                        \nEintracht Frankfurt   6609.090909  23.363636\nFC Nantes             4104.687500  15.812500\nLazio                11004.218750  38.312500\nParma                 2860.172414  23.241379",
      "text/html": "<div>\n<style scoped>\n    .dataframe tbody tr th:only-of-type {\n        vertical-align: middle;\n    }\n\n    .dataframe tbody tr th {\n        vertical-align: top;\n    }\n\n    .dataframe thead th {\n        text-align: right;\n    }\n</style>\n<table border=\"1\" class=\"dataframe\">\n  <thead>\n    <tr style=\"text-align: right;\">\n      <th></th>\n      <th>Value (K€)</th>\n      <th>Wage (K€)</th>\n    </tr>\n    <tr>\n      <th>Club</th>\n      <th></th>\n      <th></th>\n    </tr>\n  </thead>\n  <tbody>\n    <tr>\n      <th>Eintracht Frankfurt</th>\n      <td>6609.090909</td>\n      <td>23.363636</td>\n    </tr>\n    <tr>\n      <th>FC Nantes</th>\n      <td>4104.687500</td>\n      <td>15.812500</td>\n    </tr>\n    <tr>\n      <th>Lazio</th>\n      <td>11004.218750</td>\n      <td>38.312500</td>\n    </tr>\n    <tr>\n      <th>Parma</th>\n      <td>2860.172414</td>\n      <td>23.241379</td>\n    </tr>\n  </tbody>\n</table>\n</div>"
     },
     "metadata": {},
     "output_type": "execute_result",
     "execution_count": 11
    }
   ],
   "source": [
    "players[players['Club'].isin(player_set['Club'])].groupby('Club')['Value (K€)', 'Wage (K€)'].mean()\n"
   ],
   "metadata": {
    "collapsed": false,
    "pycharm": {
     "name": "#%%\n",
     "is_executing": false
    }
   }
  },
  {
   "cell_type": "markdown",
   "source": [
    "<font color = yellow> The second player grup has 80 overall, 26 years old goalkeepers.\n"
   ],
   "metadata": {
    "collapsed": false
   }
  },
  {
   "cell_type": "code",
   "execution_count": 12,
   "outputs": [
    {
     "data": {
      "text/plain": "         Name              Club Value  Wage\n438  G. Rulli     Real Sociedad  €14M  €26K\n447   Pacheco  Deportivo Alavés  €13M  €23K\n463   N. Pope           Burnley  €13M  €48K",
      "text/html": "<div>\n<style scoped>\n    .dataframe tbody tr th:only-of-type {\n        vertical-align: middle;\n    }\n\n    .dataframe tbody tr th {\n        vertical-align: top;\n    }\n\n    .dataframe thead th {\n        text-align: right;\n    }\n</style>\n<table border=\"1\" class=\"dataframe\">\n  <thead>\n    <tr style=\"text-align: right;\">\n      <th></th>\n      <th>Name</th>\n      <th>Club</th>\n      <th>Value</th>\n      <th>Wage</th>\n    </tr>\n  </thead>\n  <tbody>\n    <tr>\n      <th>438</th>\n      <td>G. Rulli</td>\n      <td>Real Sociedad</td>\n      <td>€14M</td>\n      <td>€26K</td>\n    </tr>\n    <tr>\n      <th>447</th>\n      <td>Pacheco</td>\n      <td>Deportivo Alavés</td>\n      <td>€13M</td>\n      <td>€23K</td>\n    </tr>\n    <tr>\n      <th>463</th>\n      <td>N. Pope</td>\n      <td>Burnley</td>\n      <td>€13M</td>\n      <td>€48K</td>\n    </tr>\n  </tbody>\n</table>\n</div>"
     },
     "metadata": {},
     "output_type": "execute_result",
     "execution_count": 12
    }
   ],
   "source": [
    "player_set = players[(players['Overall'] == 80) & (players['Age'] == 26) & (players['Position'] == 'GK')]\n",
    "player_set[['Name', 'Club', 'Value', 'Wage']]\n"
   ],
   "metadata": {
    "collapsed": false,
    "pycharm": {
     "name": "#%%\n",
     "is_executing": false
    }
   }
  },
  {
   "cell_type": "markdown",
   "source": [
    "<font color = yellow> Let's check average player values of these clubs\n"
   ],
   "metadata": {
    "collapsed": false
   }
  },
  {
   "cell_type": "code",
   "execution_count": 13,
   "outputs": [
    {
     "data": {
      "text/plain": "                   Value (K€)  Wage (K€)\nClub                                    \nBurnley           5616.818182  34.090909\nDeportivo Alavés  6696.296296  17.592593\nReal Sociedad     7454.354839  21.483871",
      "text/html": "<div>\n<style scoped>\n    .dataframe tbody tr th:only-of-type {\n        vertical-align: middle;\n    }\n\n    .dataframe tbody tr th {\n        vertical-align: top;\n    }\n\n    .dataframe thead th {\n        text-align: right;\n    }\n</style>\n<table border=\"1\" class=\"dataframe\">\n  <thead>\n    <tr style=\"text-align: right;\">\n      <th></th>\n      <th>Value (K€)</th>\n      <th>Wage (K€)</th>\n    </tr>\n    <tr>\n      <th>Club</th>\n      <th></th>\n      <th></th>\n    </tr>\n  </thead>\n  <tbody>\n    <tr>\n      <th>Burnley</th>\n      <td>5616.818182</td>\n      <td>34.090909</td>\n    </tr>\n    <tr>\n      <th>Deportivo Alavés</th>\n      <td>6696.296296</td>\n      <td>17.592593</td>\n    </tr>\n    <tr>\n      <th>Real Sociedad</th>\n      <td>7454.354839</td>\n      <td>21.483871</td>\n    </tr>\n  </tbody>\n</table>\n</div>"
     },
     "metadata": {},
     "output_type": "execute_result",
     "execution_count": 13
    }
   ],
   "source": [
    "players[players['Club'].isin(player_set['Club'])].groupby('Club')['Value (K€)', 'Wage (K€)'].mean()\n"
   ],
   "metadata": {
    "collapsed": false,
    "pycharm": {
     "name": "#%%\n",
     "is_executing": false
    }
   }
  },
  {
   "cell_type": "markdown",
   "source": [
    "<font color = yellow> The third player grup has 82 overall, 27 years old centre backs.\n"
   ],
   "metadata": {
    "collapsed": false
   }
  },
  {
   "cell_type": "code",
   "execution_count": 14,
   "outputs": [
    {
     "data": {
      "text/plain": "        Name           Club   Value  Wage\n261  S. Sané  FC Schalke 04  €18.5M  €41K\n273   Bartra     Real Betis    €21M  €32K",
      "text/html": "<div>\n<style scoped>\n    .dataframe tbody tr th:only-of-type {\n        vertical-align: middle;\n    }\n\n    .dataframe tbody tr th {\n        vertical-align: top;\n    }\n\n    .dataframe thead th {\n        text-align: right;\n    }\n</style>\n<table border=\"1\" class=\"dataframe\">\n  <thead>\n    <tr style=\"text-align: right;\">\n      <th></th>\n      <th>Name</th>\n      <th>Club</th>\n      <th>Value</th>\n      <th>Wage</th>\n    </tr>\n  </thead>\n  <tbody>\n    <tr>\n      <th>261</th>\n      <td>S. Sané</td>\n      <td>FC Schalke 04</td>\n      <td>€18.5M</td>\n      <td>€41K</td>\n    </tr>\n    <tr>\n      <th>273</th>\n      <td>Bartra</td>\n      <td>Real Betis</td>\n      <td>€21M</td>\n      <td>€32K</td>\n    </tr>\n  </tbody>\n</table>\n</div>"
     },
     "metadata": {},
     "output_type": "execute_result",
     "execution_count": 14
    }
   ],
   "source": [
    "player_set = players[(players['Overall'] == 82) & (players['Age'] == 27) & (players['Position'] == 'CB')]\n",
    "player_set[['Name', 'Club', 'Value', 'Wage']]\n"
   ],
   "metadata": {
    "collapsed": false,
    "pycharm": {
     "name": "#%%\n",
     "is_executing": false
    }
   }
  },
  {
   "cell_type": "markdown",
   "source": [
    "<font color = yellow> Let's check average player values of these clubs\n"
   ],
   "metadata": {
    "collapsed": false
   }
  },
  {
   "cell_type": "code",
   "execution_count": 15,
   "outputs": [
    {
     "data": {
      "text/plain": "                 Value (K€)  Wage (K€)\nClub                                  \nFC Schalke 04   8597.068966  24.586207\nReal Betis     11033.888889  22.925926",
      "text/html": "<div>\n<style scoped>\n    .dataframe tbody tr th:only-of-type {\n        vertical-align: middle;\n    }\n\n    .dataframe tbody tr th {\n        vertical-align: top;\n    }\n\n    .dataframe thead th {\n        text-align: right;\n    }\n</style>\n<table border=\"1\" class=\"dataframe\">\n  <thead>\n    <tr style=\"text-align: right;\">\n      <th></th>\n      <th>Value (K€)</th>\n      <th>Wage (K€)</th>\n    </tr>\n    <tr>\n      <th>Club</th>\n      <th></th>\n      <th></th>\n    </tr>\n  </thead>\n  <tbody>\n    <tr>\n      <th>FC Schalke 04</th>\n      <td>8597.068966</td>\n      <td>24.586207</td>\n    </tr>\n    <tr>\n      <th>Real Betis</th>\n      <td>11033.888889</td>\n      <td>22.925926</td>\n    </tr>\n  </tbody>\n</table>\n</div>"
     },
     "metadata": {},
     "output_type": "execute_result",
     "execution_count": 15
    }
   ],
   "source": [
    "players[players['Club'].isin(player_set['Club'])].groupby('Club')['Value (K€)', 'Wage (K€)'].mean()\n"
   ],
   "metadata": {
    "collapsed": false,
    "pycharm": {
     "name": "#%%\n",
     "is_executing": false
    }
   }
  },
  {
   "cell_type": "markdown",
   "source": [
    "<font color=yellow> Result: As the examples have shown, there is no direct correlation between clubs and players' value and wage\n"
   ],
   "metadata": {
    "collapsed": false
   }
  },
  {
   "cell_type": "markdown",
   "source": [
    "### <center> <font color = darkorange> Question: Do current contract durations have impact on player wages and release clauses?\n"
   ],
   "metadata": {
    "collapsed": false
   }
  },
  {
   "cell_type": "markdown",
   "source": [
    "<font color = yellow> To answer this question, we calculate contract durations of players by substracting 2018 (Game Release Year) from 'Contract Valid Until' years.\n"
   ],
   "metadata": {
    "collapsed": false
   }
  },
  {
   "cell_type": "code",
   "execution_count": 16,
   "outputs": [
    {
     "data": {
      "text/plain": "                       Name  Loaned From Contract Valid Until\n0                  L. Messi          NaN                 2021\n1         Cristiano Ronaldo          NaN                 2022\n2                 Neymar Jr          NaN                 2022\n3                    De Gea          NaN                 2020\n4              K. De Bruyne          NaN                 2023\n5                 E. Hazard          NaN                 2020\n6                 L. Modrić          NaN                 2020\n7                 L. Suárez          NaN                 2021\n8              Sergio Ramos          NaN                 2020\n9                  J. Oblak          NaN                 2021\n10           R. Lewandowski          NaN                 2021\n11                 T. Kroos          NaN                 2022\n12                 D. Godín          NaN                 2019\n13              David Silva          NaN                 2020\n14                 N. Kanté          NaN                 2023\n15                P. Dybala          NaN                 2022\n16                  H. Kane          NaN                 2024\n17             A. Griezmann          NaN                 2023\n18            M. ter Stegen          NaN                 2022\n19              T. Courtois          NaN                 2024\n20          Sergio Busquets          NaN                 2023\n21                E. Cavani          NaN                 2020\n22                 M. Neuer          NaN                 2021\n23                S. Agüero          NaN                 2021\n24             G. Chiellini          NaN                 2020\n25                K. Mbappé          NaN                 2022\n26                 M. Salah          NaN                 2023\n27                 Casemiro          NaN                 2021\n28             J. Rodríguez  Real Madrid         Jun 30, 2019\n29               L. Insigne          NaN                 2022\n...                     ...          ...                  ...\n18177             R. Roache          NaN                 2019\n18178          L. Wahlstedt          NaN                 2018\n18179           J. Williams          NaN                 2020\n18180              M. Hurst          NaN                 2019\n18181              C. Maher          NaN                 2018\n18182               Y. Góez          NaN                 2021\n18183         K. Pilkington          NaN                 2023\n18184             D. Horton          NaN                 2021\n18185              E. Tweed          NaN                 2018\n18186          Zhang Yufeng          NaN                 2019\n18187             C. Ehlich          NaN                 2020\n18188            L. Collins          NaN                 2021\n18189            A. Kaltner          NaN                 2020\n18190            L. Watkins          NaN                 2021\n18191  J. Norville-Williams          NaN                 2021\n18192             S. Squire          NaN                 2021\n18193            N. Fuentes          NaN                 2021\n18194              J. Milli          NaN                 2021\n18195            S. Griffin          NaN                 2018\n18196           K. Fujikawa          NaN                 2021\n18197            D. Holland          NaN                 2018\n18198            J. Livesey          NaN                 2021\n18199          M. Baldisimo          NaN                 2021\n18200              J. Young          NaN                 2019\n18201              D. Walsh          NaN                 2018\n18202          J. Lundstram          NaN                 2019\n18203    N. Christoffersson          NaN                 2020\n18204             B. Worman          NaN                 2021\n18205        D. Walker-Rice          NaN                 2019\n18206             G. Nugent          NaN                 2019\n\n[18207 rows x 3 columns]",
      "text/html": "<div>\n<style scoped>\n    .dataframe tbody tr th:only-of-type {\n        vertical-align: middle;\n    }\n\n    .dataframe tbody tr th {\n        vertical-align: top;\n    }\n\n    .dataframe thead th {\n        text-align: right;\n    }\n</style>\n<table border=\"1\" class=\"dataframe\">\n  <thead>\n    <tr style=\"text-align: right;\">\n      <th></th>\n      <th>Name</th>\n      <th>Loaned From</th>\n      <th>Contract Valid Until</th>\n    </tr>\n  </thead>\n  <tbody>\n    <tr>\n      <th>0</th>\n      <td>L. Messi</td>\n      <td>NaN</td>\n      <td>2021</td>\n    </tr>\n    <tr>\n      <th>1</th>\n      <td>Cristiano Ronaldo</td>\n      <td>NaN</td>\n      <td>2022</td>\n    </tr>\n    <tr>\n      <th>2</th>\n      <td>Neymar Jr</td>\n      <td>NaN</td>\n      <td>2022</td>\n    </tr>\n    <tr>\n      <th>3</th>\n      <td>De Gea</td>\n      <td>NaN</td>\n      <td>2020</td>\n    </tr>\n    <tr>\n      <th>4</th>\n      <td>K. De Bruyne</td>\n      <td>NaN</td>\n      <td>2023</td>\n    </tr>\n    <tr>\n      <th>5</th>\n      <td>E. Hazard</td>\n      <td>NaN</td>\n      <td>2020</td>\n    </tr>\n    <tr>\n      <th>6</th>\n      <td>L. Modrić</td>\n      <td>NaN</td>\n      <td>2020</td>\n    </tr>\n    <tr>\n      <th>7</th>\n      <td>L. Suárez</td>\n      <td>NaN</td>\n      <td>2021</td>\n    </tr>\n    <tr>\n      <th>8</th>\n      <td>Sergio Ramos</td>\n      <td>NaN</td>\n      <td>2020</td>\n    </tr>\n    <tr>\n      <th>9</th>\n      <td>J. Oblak</td>\n      <td>NaN</td>\n      <td>2021</td>\n    </tr>\n    <tr>\n      <th>10</th>\n      <td>R. Lewandowski</td>\n      <td>NaN</td>\n      <td>2021</td>\n    </tr>\n    <tr>\n      <th>11</th>\n      <td>T. Kroos</td>\n      <td>NaN</td>\n      <td>2022</td>\n    </tr>\n    <tr>\n      <th>12</th>\n      <td>D. Godín</td>\n      <td>NaN</td>\n      <td>2019</td>\n    </tr>\n    <tr>\n      <th>13</th>\n      <td>David Silva</td>\n      <td>NaN</td>\n      <td>2020</td>\n    </tr>\n    <tr>\n      <th>14</th>\n      <td>N. Kanté</td>\n      <td>NaN</td>\n      <td>2023</td>\n    </tr>\n    <tr>\n      <th>15</th>\n      <td>P. Dybala</td>\n      <td>NaN</td>\n      <td>2022</td>\n    </tr>\n    <tr>\n      <th>16</th>\n      <td>H. Kane</td>\n      <td>NaN</td>\n      <td>2024</td>\n    </tr>\n    <tr>\n      <th>17</th>\n      <td>A. Griezmann</td>\n      <td>NaN</td>\n      <td>2023</td>\n    </tr>\n    <tr>\n      <th>18</th>\n      <td>M. ter Stegen</td>\n      <td>NaN</td>\n      <td>2022</td>\n    </tr>\n    <tr>\n      <th>19</th>\n      <td>T. Courtois</td>\n      <td>NaN</td>\n      <td>2024</td>\n    </tr>\n    <tr>\n      <th>20</th>\n      <td>Sergio Busquets</td>\n      <td>NaN</td>\n      <td>2023</td>\n    </tr>\n    <tr>\n      <th>21</th>\n      <td>E. Cavani</td>\n      <td>NaN</td>\n      <td>2020</td>\n    </tr>\n    <tr>\n      <th>22</th>\n      <td>M. Neuer</td>\n      <td>NaN</td>\n      <td>2021</td>\n    </tr>\n    <tr>\n      <th>23</th>\n      <td>S. Agüero</td>\n      <td>NaN</td>\n      <td>2021</td>\n    </tr>\n    <tr>\n      <th>24</th>\n      <td>G. Chiellini</td>\n      <td>NaN</td>\n      <td>2020</td>\n    </tr>\n    <tr>\n      <th>25</th>\n      <td>K. Mbappé</td>\n      <td>NaN</td>\n      <td>2022</td>\n    </tr>\n    <tr>\n      <th>26</th>\n      <td>M. Salah</td>\n      <td>NaN</td>\n      <td>2023</td>\n    </tr>\n    <tr>\n      <th>27</th>\n      <td>Casemiro</td>\n      <td>NaN</td>\n      <td>2021</td>\n    </tr>\n    <tr>\n      <th>28</th>\n      <td>J. Rodríguez</td>\n      <td>Real Madrid</td>\n      <td>Jun 30, 2019</td>\n    </tr>\n    <tr>\n      <th>29</th>\n      <td>L. Insigne</td>\n      <td>NaN</td>\n      <td>2022</td>\n    </tr>\n    <tr>\n      <th>...</th>\n      <td>...</td>\n      <td>...</td>\n      <td>...</td>\n    </tr>\n    <tr>\n      <th>18177</th>\n      <td>R. Roache</td>\n      <td>NaN</td>\n      <td>2019</td>\n    </tr>\n    <tr>\n      <th>18178</th>\n      <td>L. Wahlstedt</td>\n      <td>NaN</td>\n      <td>2018</td>\n    </tr>\n    <tr>\n      <th>18179</th>\n      <td>J. Williams</td>\n      <td>NaN</td>\n      <td>2020</td>\n    </tr>\n    <tr>\n      <th>18180</th>\n      <td>M. Hurst</td>\n      <td>NaN</td>\n      <td>2019</td>\n    </tr>\n    <tr>\n      <th>18181</th>\n      <td>C. Maher</td>\n      <td>NaN</td>\n      <td>2018</td>\n    </tr>\n    <tr>\n      <th>18182</th>\n      <td>Y. Góez</td>\n      <td>NaN</td>\n      <td>2021</td>\n    </tr>\n    <tr>\n      <th>18183</th>\n      <td>K. Pilkington</td>\n      <td>NaN</td>\n      <td>2023</td>\n    </tr>\n    <tr>\n      <th>18184</th>\n      <td>D. Horton</td>\n      <td>NaN</td>\n      <td>2021</td>\n    </tr>\n    <tr>\n      <th>18185</th>\n      <td>E. Tweed</td>\n      <td>NaN</td>\n      <td>2018</td>\n    </tr>\n    <tr>\n      <th>18186</th>\n      <td>Zhang Yufeng</td>\n      <td>NaN</td>\n      <td>2019</td>\n    </tr>\n    <tr>\n      <th>18187</th>\n      <td>C. Ehlich</td>\n      <td>NaN</td>\n      <td>2020</td>\n    </tr>\n    <tr>\n      <th>18188</th>\n      <td>L. Collins</td>\n      <td>NaN</td>\n      <td>2021</td>\n    </tr>\n    <tr>\n      <th>18189</th>\n      <td>A. Kaltner</td>\n      <td>NaN</td>\n      <td>2020</td>\n    </tr>\n    <tr>\n      <th>18190</th>\n      <td>L. Watkins</td>\n      <td>NaN</td>\n      <td>2021</td>\n    </tr>\n    <tr>\n      <th>18191</th>\n      <td>J. Norville-Williams</td>\n      <td>NaN</td>\n      <td>2021</td>\n    </tr>\n    <tr>\n      <th>18192</th>\n      <td>S. Squire</td>\n      <td>NaN</td>\n      <td>2021</td>\n    </tr>\n    <tr>\n      <th>18193</th>\n      <td>N. Fuentes</td>\n      <td>NaN</td>\n      <td>2021</td>\n    </tr>\n    <tr>\n      <th>18194</th>\n      <td>J. Milli</td>\n      <td>NaN</td>\n      <td>2021</td>\n    </tr>\n    <tr>\n      <th>18195</th>\n      <td>S. Griffin</td>\n      <td>NaN</td>\n      <td>2018</td>\n    </tr>\n    <tr>\n      <th>18196</th>\n      <td>K. Fujikawa</td>\n      <td>NaN</td>\n      <td>2021</td>\n    </tr>\n    <tr>\n      <th>18197</th>\n      <td>D. Holland</td>\n      <td>NaN</td>\n      <td>2018</td>\n    </tr>\n    <tr>\n      <th>18198</th>\n      <td>J. Livesey</td>\n      <td>NaN</td>\n      <td>2021</td>\n    </tr>\n    <tr>\n      <th>18199</th>\n      <td>M. Baldisimo</td>\n      <td>NaN</td>\n      <td>2021</td>\n    </tr>\n    <tr>\n      <th>18200</th>\n      <td>J. Young</td>\n      <td>NaN</td>\n      <td>2019</td>\n    </tr>\n    <tr>\n      <th>18201</th>\n      <td>D. Walsh</td>\n      <td>NaN</td>\n      <td>2018</td>\n    </tr>\n    <tr>\n      <th>18202</th>\n      <td>J. Lundstram</td>\n      <td>NaN</td>\n      <td>2019</td>\n    </tr>\n    <tr>\n      <th>18203</th>\n      <td>N. Christoffersson</td>\n      <td>NaN</td>\n      <td>2020</td>\n    </tr>\n    <tr>\n      <th>18204</th>\n      <td>B. Worman</td>\n      <td>NaN</td>\n      <td>2021</td>\n    </tr>\n    <tr>\n      <th>18205</th>\n      <td>D. Walker-Rice</td>\n      <td>NaN</td>\n      <td>2019</td>\n    </tr>\n    <tr>\n      <th>18206</th>\n      <td>G. Nugent</td>\n      <td>NaN</td>\n      <td>2019</td>\n    </tr>\n  </tbody>\n</table>\n<p>18207 rows × 3 columns</p>\n</div>"
     },
     "metadata": {},
     "output_type": "execute_result",
     "execution_count": 16
    }
   ],
   "source": [
    "players[['Name', 'Loaned From', 'Contract Valid Until']]\n"
   ],
   "metadata": {
    "collapsed": false,
    "pycharm": {
     "name": "#%%\n",
     "is_executing": false
    }
   }
  },
  {
   "cell_type": "markdown",
   "source": [
    "<font color = yellow> However, 'Contract Valid Until' fields of loaned players contain their return date as month-day-year format. As these fields do not show us their contract expire dates with their original clubs, these players are not useful for us. Therefore, we omit them.\n"
   ],
   "metadata": {
    "collapsed": false
   }
  },
  {
   "cell_type": "code",
   "execution_count": 17,
   "outputs": [
    {
     "data": {
      "text/plain": "                       Name Loaned From  Contract Valid Until\n0                  L. Messi         NaN                  2021\n1         Cristiano Ronaldo         NaN                  2022\n2                 Neymar Jr         NaN                  2022\n3                    De Gea         NaN                  2020\n4              K. De Bruyne         NaN                  2023\n5                 E. Hazard         NaN                  2020\n6                 L. Modrić         NaN                  2020\n7                 L. Suárez         NaN                  2021\n8              Sergio Ramos         NaN                  2020\n9                  J. Oblak         NaN                  2021\n10           R. Lewandowski         NaN                  2021\n11                 T. Kroos         NaN                  2022\n12                 D. Godín         NaN                  2019\n13              David Silva         NaN                  2020\n14                 N. Kanté         NaN                  2023\n15                P. Dybala         NaN                  2022\n16                  H. Kane         NaN                  2024\n17             A. Griezmann         NaN                  2023\n18            M. ter Stegen         NaN                  2022\n19              T. Courtois         NaN                  2024\n20          Sergio Busquets         NaN                  2023\n21                E. Cavani         NaN                  2020\n22                 M. Neuer         NaN                  2021\n23                S. Agüero         NaN                  2021\n24             G. Chiellini         NaN                  2020\n25                K. Mbappé         NaN                  2022\n26                 M. Salah         NaN                  2023\n27                 Casemiro         NaN                  2021\n29               L. Insigne         NaN                  2022\n30                     Isco         NaN                  2022\n...                     ...         ...                   ...\n18177             R. Roache         NaN                  2019\n18178          L. Wahlstedt         NaN                  2018\n18179           J. Williams         NaN                  2020\n18180              M. Hurst         NaN                  2019\n18181              C. Maher         NaN                  2018\n18182               Y. Góez         NaN                  2021\n18183         K. Pilkington         NaN                  2023\n18184             D. Horton         NaN                  2021\n18185              E. Tweed         NaN                  2018\n18186          Zhang Yufeng         NaN                  2019\n18187             C. Ehlich         NaN                  2020\n18188            L. Collins         NaN                  2021\n18189            A. Kaltner         NaN                  2020\n18190            L. Watkins         NaN                  2021\n18191  J. Norville-Williams         NaN                  2021\n18192             S. Squire         NaN                  2021\n18193            N. Fuentes         NaN                  2021\n18194              J. Milli         NaN                  2021\n18195            S. Griffin         NaN                  2018\n18196           K. Fujikawa         NaN                  2021\n18197            D. Holland         NaN                  2018\n18198            J. Livesey         NaN                  2021\n18199          M. Baldisimo         NaN                  2021\n18200              J. Young         NaN                  2019\n18201              D. Walsh         NaN                  2018\n18202          J. Lundstram         NaN                  2019\n18203    N. Christoffersson         NaN                  2020\n18204             B. Worman         NaN                  2021\n18205        D. Walker-Rice         NaN                  2019\n18206             G. Nugent         NaN                  2019\n\n[16654 rows x 3 columns]",
      "text/html": "<div>\n<style scoped>\n    .dataframe tbody tr th:only-of-type {\n        vertical-align: middle;\n    }\n\n    .dataframe tbody tr th {\n        vertical-align: top;\n    }\n\n    .dataframe thead th {\n        text-align: right;\n    }\n</style>\n<table border=\"1\" class=\"dataframe\">\n  <thead>\n    <tr style=\"text-align: right;\">\n      <th></th>\n      <th>Name</th>\n      <th>Loaned From</th>\n      <th>Contract Valid Until</th>\n    </tr>\n  </thead>\n  <tbody>\n    <tr>\n      <th>0</th>\n      <td>L. Messi</td>\n      <td>NaN</td>\n      <td>2021</td>\n    </tr>\n    <tr>\n      <th>1</th>\n      <td>Cristiano Ronaldo</td>\n      <td>NaN</td>\n      <td>2022</td>\n    </tr>\n    <tr>\n      <th>2</th>\n      <td>Neymar Jr</td>\n      <td>NaN</td>\n      <td>2022</td>\n    </tr>\n    <tr>\n      <th>3</th>\n      <td>De Gea</td>\n      <td>NaN</td>\n      <td>2020</td>\n    </tr>\n    <tr>\n      <th>4</th>\n      <td>K. De Bruyne</td>\n      <td>NaN</td>\n      <td>2023</td>\n    </tr>\n    <tr>\n      <th>5</th>\n      <td>E. Hazard</td>\n      <td>NaN</td>\n      <td>2020</td>\n    </tr>\n    <tr>\n      <th>6</th>\n      <td>L. Modrić</td>\n      <td>NaN</td>\n      <td>2020</td>\n    </tr>\n    <tr>\n      <th>7</th>\n      <td>L. Suárez</td>\n      <td>NaN</td>\n      <td>2021</td>\n    </tr>\n    <tr>\n      <th>8</th>\n      <td>Sergio Ramos</td>\n      <td>NaN</td>\n      <td>2020</td>\n    </tr>\n    <tr>\n      <th>9</th>\n      <td>J. Oblak</td>\n      <td>NaN</td>\n      <td>2021</td>\n    </tr>\n    <tr>\n      <th>10</th>\n      <td>R. Lewandowski</td>\n      <td>NaN</td>\n      <td>2021</td>\n    </tr>\n    <tr>\n      <th>11</th>\n      <td>T. Kroos</td>\n      <td>NaN</td>\n      <td>2022</td>\n    </tr>\n    <tr>\n      <th>12</th>\n      <td>D. Godín</td>\n      <td>NaN</td>\n      <td>2019</td>\n    </tr>\n    <tr>\n      <th>13</th>\n      <td>David Silva</td>\n      <td>NaN</td>\n      <td>2020</td>\n    </tr>\n    <tr>\n      <th>14</th>\n      <td>N. Kanté</td>\n      <td>NaN</td>\n      <td>2023</td>\n    </tr>\n    <tr>\n      <th>15</th>\n      <td>P. Dybala</td>\n      <td>NaN</td>\n      <td>2022</td>\n    </tr>\n    <tr>\n      <th>16</th>\n      <td>H. Kane</td>\n      <td>NaN</td>\n      <td>2024</td>\n    </tr>\n    <tr>\n      <th>17</th>\n      <td>A. Griezmann</td>\n      <td>NaN</td>\n      <td>2023</td>\n    </tr>\n    <tr>\n      <th>18</th>\n      <td>M. ter Stegen</td>\n      <td>NaN</td>\n      <td>2022</td>\n    </tr>\n    <tr>\n      <th>19</th>\n      <td>T. Courtois</td>\n      <td>NaN</td>\n      <td>2024</td>\n    </tr>\n    <tr>\n      <th>20</th>\n      <td>Sergio Busquets</td>\n      <td>NaN</td>\n      <td>2023</td>\n    </tr>\n    <tr>\n      <th>21</th>\n      <td>E. Cavani</td>\n      <td>NaN</td>\n      <td>2020</td>\n    </tr>\n    <tr>\n      <th>22</th>\n      <td>M. Neuer</td>\n      <td>NaN</td>\n      <td>2021</td>\n    </tr>\n    <tr>\n      <th>23</th>\n      <td>S. Agüero</td>\n      <td>NaN</td>\n      <td>2021</td>\n    </tr>\n    <tr>\n      <th>24</th>\n      <td>G. Chiellini</td>\n      <td>NaN</td>\n      <td>2020</td>\n    </tr>\n    <tr>\n      <th>25</th>\n      <td>K. Mbappé</td>\n      <td>NaN</td>\n      <td>2022</td>\n    </tr>\n    <tr>\n      <th>26</th>\n      <td>M. Salah</td>\n      <td>NaN</td>\n      <td>2023</td>\n    </tr>\n    <tr>\n      <th>27</th>\n      <td>Casemiro</td>\n      <td>NaN</td>\n      <td>2021</td>\n    </tr>\n    <tr>\n      <th>29</th>\n      <td>L. Insigne</td>\n      <td>NaN</td>\n      <td>2022</td>\n    </tr>\n    <tr>\n      <th>30</th>\n      <td>Isco</td>\n      <td>NaN</td>\n      <td>2022</td>\n    </tr>\n    <tr>\n      <th>...</th>\n      <td>...</td>\n      <td>...</td>\n      <td>...</td>\n    </tr>\n    <tr>\n      <th>18177</th>\n      <td>R. Roache</td>\n      <td>NaN</td>\n      <td>2019</td>\n    </tr>\n    <tr>\n      <th>18178</th>\n      <td>L. Wahlstedt</td>\n      <td>NaN</td>\n      <td>2018</td>\n    </tr>\n    <tr>\n      <th>18179</th>\n      <td>J. Williams</td>\n      <td>NaN</td>\n      <td>2020</td>\n    </tr>\n    <tr>\n      <th>18180</th>\n      <td>M. Hurst</td>\n      <td>NaN</td>\n      <td>2019</td>\n    </tr>\n    <tr>\n      <th>18181</th>\n      <td>C. Maher</td>\n      <td>NaN</td>\n      <td>2018</td>\n    </tr>\n    <tr>\n      <th>18182</th>\n      <td>Y. Góez</td>\n      <td>NaN</td>\n      <td>2021</td>\n    </tr>\n    <tr>\n      <th>18183</th>\n      <td>K. Pilkington</td>\n      <td>NaN</td>\n      <td>2023</td>\n    </tr>\n    <tr>\n      <th>18184</th>\n      <td>D. Horton</td>\n      <td>NaN</td>\n      <td>2021</td>\n    </tr>\n    <tr>\n      <th>18185</th>\n      <td>E. Tweed</td>\n      <td>NaN</td>\n      <td>2018</td>\n    </tr>\n    <tr>\n      <th>18186</th>\n      <td>Zhang Yufeng</td>\n      <td>NaN</td>\n      <td>2019</td>\n    </tr>\n    <tr>\n      <th>18187</th>\n      <td>C. Ehlich</td>\n      <td>NaN</td>\n      <td>2020</td>\n    </tr>\n    <tr>\n      <th>18188</th>\n      <td>L. Collins</td>\n      <td>NaN</td>\n      <td>2021</td>\n    </tr>\n    <tr>\n      <th>18189</th>\n      <td>A. Kaltner</td>\n      <td>NaN</td>\n      <td>2020</td>\n    </tr>\n    <tr>\n      <th>18190</th>\n      <td>L. Watkins</td>\n      <td>NaN</td>\n      <td>2021</td>\n    </tr>\n    <tr>\n      <th>18191</th>\n      <td>J. Norville-Williams</td>\n      <td>NaN</td>\n      <td>2021</td>\n    </tr>\n    <tr>\n      <th>18192</th>\n      <td>S. Squire</td>\n      <td>NaN</td>\n      <td>2021</td>\n    </tr>\n    <tr>\n      <th>18193</th>\n      <td>N. Fuentes</td>\n      <td>NaN</td>\n      <td>2021</td>\n    </tr>\n    <tr>\n      <th>18194</th>\n      <td>J. Milli</td>\n      <td>NaN</td>\n      <td>2021</td>\n    </tr>\n    <tr>\n      <th>18195</th>\n      <td>S. Griffin</td>\n      <td>NaN</td>\n      <td>2018</td>\n    </tr>\n    <tr>\n      <th>18196</th>\n      <td>K. Fujikawa</td>\n      <td>NaN</td>\n      <td>2021</td>\n    </tr>\n    <tr>\n      <th>18197</th>\n      <td>D. Holland</td>\n      <td>NaN</td>\n      <td>2018</td>\n    </tr>\n    <tr>\n      <th>18198</th>\n      <td>J. Livesey</td>\n      <td>NaN</td>\n      <td>2021</td>\n    </tr>\n    <tr>\n      <th>18199</th>\n      <td>M. Baldisimo</td>\n      <td>NaN</td>\n      <td>2021</td>\n    </tr>\n    <tr>\n      <th>18200</th>\n      <td>J. Young</td>\n      <td>NaN</td>\n      <td>2019</td>\n    </tr>\n    <tr>\n      <th>18201</th>\n      <td>D. Walsh</td>\n      <td>NaN</td>\n      <td>2018</td>\n    </tr>\n    <tr>\n      <th>18202</th>\n      <td>J. Lundstram</td>\n      <td>NaN</td>\n      <td>2019</td>\n    </tr>\n    <tr>\n      <th>18203</th>\n      <td>N. Christoffersson</td>\n      <td>NaN</td>\n      <td>2020</td>\n    </tr>\n    <tr>\n      <th>18204</th>\n      <td>B. Worman</td>\n      <td>NaN</td>\n      <td>2021</td>\n    </tr>\n    <tr>\n      <th>18205</th>\n      <td>D. Walker-Rice</td>\n      <td>NaN</td>\n      <td>2019</td>\n    </tr>\n    <tr>\n      <th>18206</th>\n      <td>G. Nugent</td>\n      <td>NaN</td>\n      <td>2019</td>\n    </tr>\n  </tbody>\n</table>\n<p>16654 rows × 3 columns</p>\n</div>"
     },
     "metadata": {},
     "output_type": "execute_result",
     "execution_count": 17
    }
   ],
   "source": [
    "player_set = players.copy()\n",
    "player_set = player_set[pd.to_numeric(players['Contract Valid Until'], errors = 'coerce').notnull()]\n",
    "player_set['Contract Valid Until'] = player_set['Contract Valid Until'].astype('int')\n",
    "player_set['Contract Duration'] = player_set['Contract Valid Until'] - 2018\n",
    "player_set[['Name', 'Loaned From', 'Contract Valid Until']]\n"
   ],
   "metadata": {
    "collapsed": false,
    "pycharm": {
     "name": "#%%\n",
     "is_executing": false
    }
   }
  },
  {
   "cell_type": "markdown",
   "source": [
    "<font color=yellow> Then we calculate average wages of players having the same contract duration.\n"
   ],
   "metadata": {
    "collapsed": false
   }
  },
  {
   "cell_type": "code",
   "execution_count": 18,
   "outputs": [
    {
     "name": "stdout",
     "text": [
      "Contract Duration\n0     3.036117\n1     6.363976\n2     9.278123\n3     9.788761\n4    19.024374\n5    15.769231\n6    70.130435\n7    45.000000\n8    39.000000\nName: Wage (K€), dtype: float64\n"
     ],
     "output_type": "stream"
    },
    {
     "data": {
      "text/plain": "[<matplotlib.lines.Line2D at 0x11476d5f8>]"
     },
     "metadata": {},
     "output_type": "execute_result",
     "execution_count": 18
    },
    {
     "data": {
      "text/plain": "<Figure size 432x288 with 1 Axes>",
      "image/png": "[encoded data removed]"
     },
     "metadata": {
      "needs_background": "light"
     },
     "output_type": "display_data"
    }
   ],
   "source": [
    "wages_by_contract_duration = player_set.groupby('Contract Duration')['Wage (K€)'].mean()\n",
    "print(wages_by_contract_duration)\n",
    "plt.xlabel('Contract Duration')\n",
    "plt.ylabel('Wage (K€)')\n",
    "plt.plot(wages_by_contract_duration, 'o')\n"
   ],
   "metadata": {
    "collapsed": false,
    "pycharm": {
     "name": "#%%\n",
     "is_executing": false
    }
   }
  },
  {
   "cell_type": "markdown",
   "source": [
    "<font color = yellow> To examine release clauses, we  need release clauses as numeric. We apply the same procedure as values and wages. However, some players may not have a release clause.\n"
   ],
   "metadata": {
    "collapsed": false
   }
  },
  {
   "cell_type": "code",
   "execution_count": 19,
   "outputs": [
    {
     "data": {
      "text/plain": "                       Name Release Clause  Release Clause (K€)\n0                  L. Messi        €226.5M             226500.0\n1         Cristiano Ronaldo        €127.1M             127100.0\n2                 Neymar Jr        €228.1M             228100.0\n3                    De Gea        €138.6M             138600.0\n4              K. De Bruyne        €196.4M             196400.0\n5                 E. Hazard        €172.1M             172100.0\n6                 L. Modrić        €137.4M             137400.0\n7                 L. Suárez          €164M             164000.0\n8              Sergio Ramos        €104.6M             104600.0\n9                  J. Oblak        €144.5M             144500.0\n10           R. Lewandowski        €127.1M             127100.0\n11                 T. Kroos        €156.8M             156800.0\n12                 D. Godín         €90.2M              90200.0\n13              David Silva          €111M             111000.0\n14                 N. Kanté        €121.3M             121300.0\n15                P. Dybala        €153.5M             153500.0\n16                  H. Kane        €160.7M             160700.0\n17             A. Griezmann        €165.8M             165800.0\n18            M. ter Stegen        €123.3M             123300.0\n19              T. Courtois        €113.7M             113700.0\n20          Sergio Busquets        €105.6M             105600.0\n21                E. Cavani          €111M             111000.0\n22                 M. Neuer         €62.7M              62700.0\n23                S. Agüero        €119.3M             119300.0\n24             G. Chiellini         €44.6M              44600.0\n25                K. Mbappé        €166.1M             166100.0\n26                 M. Salah        €137.3M             137300.0\n27                 Casemiro        €126.4M             126400.0\n29               L. Insigne        €105.4M             105400.0\n30                     Isco        €156.2M             156200.0\n...                     ...            ...                  ...\n18177             R. Roache          €193K                193.0\n18178          L. Wahlstedt           €94K                 94.0\n18179           J. Williams          €119K                119.0\n18180              M. Hurst           €78K                 78.0\n18181              C. Maher          €109K                109.0\n18182               Y. Góez          €101K                101.0\n18183         K. Pilkington            NaN                  NaN\n18184             D. Horton           €78K                 78.0\n18185              E. Tweed           €88K                 88.0\n18186          Zhang Yufeng          €167K                167.0\n18187             C. Ehlich           €66K                 66.0\n18188            L. Collins          €143K                143.0\n18189            A. Kaltner          €125K                125.0\n18190            L. Watkins          €165K                165.0\n18191  J. Norville-Williams          €119K                119.0\n18192             S. Squire          €119K                119.0\n18193            N. Fuentes           €99K                 99.0\n18194              J. Milli          €109K                109.0\n18195            S. Griffin          €153K                153.0\n18196           K. Fujikawa          €113K                113.0\n18197            D. Holland           €88K                 88.0\n18198            J. Livesey          €165K                165.0\n18199          M. Baldisimo          €175K                175.0\n18200              J. Young          €143K                143.0\n18201              D. Walsh          €153K                153.0\n18202          J. Lundstram          €143K                143.0\n18203    N. Christoffersson          €113K                113.0\n18204             B. Worman          €165K                165.0\n18205        D. Walker-Rice          €143K                143.0\n18206             G. Nugent          €165K                165.0\n\n[16654 rows x 3 columns]",
      "text/html": "<div>\n<style scoped>\n    .dataframe tbody tr th:only-of-type {\n        vertical-align: middle;\n    }\n\n    .dataframe tbody tr th {\n        vertical-align: top;\n    }\n\n    .dataframe thead th {\n        text-align: right;\n    }\n</style>\n<table border=\"1\" class=\"dataframe\">\n  <thead>\n    <tr style=\"text-align: right;\">\n      <th></th>\n      <th>Name</th>\n      <th>Release Clause</th>\n      <th>Release Clause (K€)</th>\n    </tr>\n  </thead>\n  <tbody>\n    <tr>\n      <th>0</th>\n      <td>L. Messi</td>\n      <td>€226.5M</td>\n      <td>226500.0</td>\n    </tr>\n    <tr>\n      <th>1</th>\n      <td>Cristiano Ronaldo</td>\n      <td>€127.1M</td>\n      <td>127100.0</td>\n    </tr>\n    <tr>\n      <th>2</th>\n      <td>Neymar Jr</td>\n      <td>€228.1M</td>\n      <td>228100.0</td>\n    </tr>\n    <tr>\n      <th>3</th>\n      <td>De Gea</td>\n      <td>€138.6M</td>\n      <td>138600.0</td>\n    </tr>\n    <tr>\n      <th>4</th>\n      <td>K. De Bruyne</td>\n      <td>€196.4M</td>\n      <td>196400.0</td>\n    </tr>\n    <tr>\n      <th>5</th>\n      <td>E. Hazard</td>\n      <td>€172.1M</td>\n      <td>172100.0</td>\n    </tr>\n    <tr>\n      <th>6</th>\n      <td>L. Modrić</td>\n      <td>€137.4M</td>\n      <td>137400.0</td>\n    </tr>\n    <tr>\n      <th>7</th>\n      <td>L. Suárez</td>\n      <td>€164M</td>\n      <td>164000.0</td>\n    </tr>\n    <tr>\n      <th>8</th>\n      <td>Sergio Ramos</td>\n      <td>€104.6M</td>\n      <td>104600.0</td>\n    </tr>\n    <tr>\n      <th>9</th>\n      <td>J. Oblak</td>\n      <td>€144.5M</td>\n      <td>144500.0</td>\n    </tr>\n    <tr>\n      <th>10</th>\n      <td>R. Lewandowski</td>\n      <td>€127.1M</td>\n      <td>127100.0</td>\n    </tr>\n    <tr>\n      <th>11</th>\n      <td>T. Kroos</td>\n      <td>€156.8M</td>\n      <td>156800.0</td>\n    </tr>\n    <tr>\n      <th>12</th>\n      <td>D. Godín</td>\n      <td>€90.2M</td>\n      <td>90200.0</td>\n    </tr>\n    <tr>\n      <th>13</th>\n      <td>David Silva</td>\n      <td>€111M</td>\n      <td>111000.0</td>\n    </tr>\n    <tr>\n      <th>14</th>\n      <td>N. Kanté</td>\n      <td>€121.3M</td>\n      <td>121300.0</td>\n    </tr>\n    <tr>\n      <th>15</th>\n      <td>P. Dybala</td>\n      <td>€153.5M</td>\n      <td>153500.0</td>\n    </tr>\n    <tr>\n      <th>16</th>\n      <td>H. Kane</td>\n      <td>€160.7M</td>\n      <td>160700.0</td>\n    </tr>\n    <tr>\n      <th>17</th>\n      <td>A. Griezmann</td>\n      <td>€165.8M</td>\n      <td>165800.0</td>\n    </tr>\n    <tr>\n      <th>18</th>\n      <td>M. ter Stegen</td>\n      <td>€123.3M</td>\n      <td>123300.0</td>\n    </tr>\n    <tr>\n      <th>19</th>\n      <td>T. Courtois</td>\n      <td>€113.7M</td>\n      <td>113700.0</td>\n    </tr>\n    <tr>\n      <th>20</th>\n      <td>Sergio Busquets</td>\n      <td>€105.6M</td>\n      <td>105600.0</td>\n    </tr>\n    <tr>\n      <th>21</th>\n      <td>E. Cavani</td>\n      <td>€111M</td>\n      <td>111000.0</td>\n    </tr>\n    <tr>\n      <th>22</th>\n      <td>M. Neuer</td>\n      <td>€62.7M</td>\n      <td>62700.0</td>\n    </tr>\n    <tr>\n      <th>23</th>\n      <td>S. Agüero</td>\n      <td>€119.3M</td>\n      <td>119300.0</td>\n    </tr>\n    <tr>\n      <th>24</th>\n      <td>G. Chiellini</td>\n      <td>€44.6M</td>\n      <td>44600.0</td>\n    </tr>\n    <tr>\n      <th>25</th>\n      <td>K. Mbappé</td>\n      <td>€166.1M</td>\n      <td>166100.0</td>\n    </tr>\n    <tr>\n      <th>26</th>\n      <td>M. Salah</td>\n      <td>€137.3M</td>\n      <td>137300.0</td>\n    </tr>\n    <tr>\n      <th>27</th>\n      <td>Casemiro</td>\n      <td>€126.4M</td>\n      <td>126400.0</td>\n    </tr>\n    <tr>\n      <th>29</th>\n      <td>L. Insigne</td>\n      <td>€105.4M</td>\n      <td>105400.0</td>\n    </tr>\n    <tr>\n      <th>30</th>\n      <td>Isco</td>\n      <td>€156.2M</td>\n      <td>156200.0</td>\n    </tr>\n    <tr>\n      <th>...</th>\n      <td>...</td>\n      <td>...</td>\n      <td>...</td>\n    </tr>\n    <tr>\n      <th>18177</th>\n      <td>R. Roache</td>\n      <td>€193K</td>\n      <td>193.0</td>\n    </tr>\n    <tr>\n      <th>18178</th>\n      <td>L. Wahlstedt</td>\n      <td>€94K</td>\n      <td>94.0</td>\n    </tr>\n    <tr>\n      <th>18179</th>\n      <td>J. Williams</td>\n      <td>€119K</td>\n      <td>119.0</td>\n    </tr>\n    <tr>\n      <th>18180</th>\n      <td>M. Hurst</td>\n      <td>€78K</td>\n      <td>78.0</td>\n    </tr>\n    <tr>\n      <th>18181</th>\n      <td>C. Maher</td>\n      <td>€109K</td>\n      <td>109.0</td>\n    </tr>\n    <tr>\n      <th>18182</th>\n      <td>Y. Góez</td>\n      <td>€101K</td>\n      <td>101.0</td>\n    </tr>\n    <tr>\n      <th>18183</th>\n      <td>K. Pilkington</td>\n      <td>NaN</td>\n      <td>NaN</td>\n    </tr>\n    <tr>\n      <th>18184</th>\n      <td>D. Horton</td>\n      <td>€78K</td>\n      <td>78.0</td>\n    </tr>\n    <tr>\n      <th>18185</th>\n      <td>E. Tweed</td>\n      <td>€88K</td>\n      <td>88.0</td>\n    </tr>\n    <tr>\n      <th>18186</th>\n      <td>Zhang Yufeng</td>\n      <td>€167K</td>\n      <td>167.0</td>\n    </tr>\n    <tr>\n      <th>18187</th>\n      <td>C. Ehlich</td>\n      <td>€66K</td>\n      <td>66.0</td>\n    </tr>\n    <tr>\n      <th>18188</th>\n      <td>L. Collins</td>\n      <td>€143K</td>\n      <td>143.0</td>\n    </tr>\n    <tr>\n      <th>18189</th>\n      <td>A. Kaltner</td>\n      <td>€125K</td>\n      <td>125.0</td>\n    </tr>\n    <tr>\n      <th>18190</th>\n      <td>L. Watkins</td>\n      <td>€165K</td>\n      <td>165.0</td>\n    </tr>\n    <tr>\n      <th>18191</th>\n      <td>J. Norville-Williams</td>\n      <td>€119K</td>\n      <td>119.0</td>\n    </tr>\n    <tr>\n      <th>18192</th>\n      <td>S. Squire</td>\n      <td>€119K</td>\n      <td>119.0</td>\n    </tr>\n    <tr>\n      <th>18193</th>\n      <td>N. Fuentes</td>\n      <td>€99K</td>\n      <td>99.0</td>\n    </tr>\n    <tr>\n      <th>18194</th>\n      <td>J. Milli</td>\n      <td>€109K</td>\n      <td>109.0</td>\n    </tr>\n    <tr>\n      <th>18195</th>\n      <td>S. Griffin</td>\n      <td>€153K</td>\n      <td>153.0</td>\n    </tr>\n    <tr>\n      <th>18196</th>\n      <td>K. Fujikawa</td>\n      <td>€113K</td>\n      <td>113.0</td>\n    </tr>\n    <tr>\n      <th>18197</th>\n      <td>D. Holland</td>\n      <td>€88K</td>\n      <td>88.0</td>\n    </tr>\n    <tr>\n      <th>18198</th>\n      <td>J. Livesey</td>\n      <td>€165K</td>\n      <td>165.0</td>\n    </tr>\n    <tr>\n      <th>18199</th>\n      <td>M. Baldisimo</td>\n      <td>€175K</td>\n      <td>175.0</td>\n    </tr>\n    <tr>\n      <th>18200</th>\n      <td>J. Young</td>\n      <td>€143K</td>\n      <td>143.0</td>\n    </tr>\n    <tr>\n      <th>18201</th>\n      <td>D. Walsh</td>\n      <td>€153K</td>\n      <td>153.0</td>\n    </tr>\n    <tr>\n      <th>18202</th>\n      <td>J. Lundstram</td>\n      <td>€143K</td>\n      <td>143.0</td>\n    </tr>\n    <tr>\n      <th>18203</th>\n      <td>N. Christoffersson</td>\n      <td>€113K</td>\n      <td>113.0</td>\n    </tr>\n    <tr>\n      <th>18204</th>\n      <td>B. Worman</td>\n      <td>€165K</td>\n      <td>165.0</td>\n    </tr>\n    <tr>\n      <th>18205</th>\n      <td>D. Walker-Rice</td>\n      <td>€143K</td>\n      <td>143.0</td>\n    </tr>\n    <tr>\n      <th>18206</th>\n      <td>G. Nugent</td>\n      <td>€165K</td>\n      <td>165.0</td>\n    </tr>\n  </tbody>\n</table>\n<p>16654 rows × 3 columns</p>\n</div>"
     },
     "metadata": {},
     "output_type": "execute_result",
     "execution_count": 19
    }
   ],
   "source": [
    "for index, row in player_set.iterrows():\n",
    "    if isinstance(row['Release Clause'], str):\n",
    "        player_set.at[index, 'Release Clause (K€)'] = float(row['Release Clause'].translate({ord(i): None for i in '€KM'})) * (1000 if \"M\" in row['Release Clause'] else 1)\n",
    "        \n",
    "player_set[['Name','Release Clause', 'Release Clause (K€)']]\n"
   ],
   "metadata": {
    "collapsed": false,
    "pycharm": {
     "name": "#%%\n",
     "is_executing": false
    }
   }
  },
  {
   "cell_type": "markdown",
   "source": [
    "<font color=yellow> Then we calculate average release clauses of players having the same contract duration. \n"
   ],
   "metadata": {
    "collapsed": false
   }
  },
  {
   "cell_type": "code",
   "execution_count": 21,
   "outputs": [
    {
     "name": "stdout",
     "text": [
      "Contract Duration\n0     1318.914221\n1     2263.783963\n2     3954.887261\n3     4828.990133\n4    10446.252203\n5     9847.124643\n6    50408.695652\n7    35148.000000\n8    54350.000000\nName: Release Clause (K€), dtype: float64\n"
     ],
     "output_type": "stream"
    },
    {
     "data": {
      "text/plain": "[<matplotlib.lines.Line2D at 0x10dac9908>]"
     },
     "metadata": {},
     "output_type": "execute_result",
     "execution_count": 21
    },
    {
     "data": {
      "text/plain": "<Figure size 432x288 with 1 Axes>",
      "image/png": "[encoded data removed]"
     },
     "metadata": {
      "needs_background": "light"
     },
     "output_type": "display_data"
    }
   ],
   "source": [
    "release_clauses_by_contract_duration = player_set.groupby('Contract Duration')['Release Clause (K€)'].mean()\n",
    "print(release_clauses_by_contract_duration)\n",
    "plt.xlabel('Contract Duration')\n",
    "plt.ylabel('Release Clause')\n",
    "plt.plot(release_clauses_by_contract_duration, 'o')\n"
   ],
   "metadata": {
    "collapsed": false,
    "pycharm": {
     "name": "#%%\n",
     "is_executing": false
    }
   }
  },
  {
   "cell_type": "markdown",
   "source": [
    "<font color=yellow> Result: Players having long term contract with their club generally have higher wages and release clauses.\n"
   ],
   "metadata": {
    "collapsed": false
   }
  },
  {
   "cell_type": "markdown",
   "source": [
    "### <center> <font color = darkorange> Question: Which jersey numbers the best players have picked?\n"
   ],
   "metadata": {
    "collapsed": false
   }
  },
  {
   "cell_type": "markdown",
   "source": [
    "<font color = yellow> To answer this question, we count the most selected jersey numbers by best players. We considered players having more than 75 overall are \"the best\".\n"
   ],
   "metadata": {
    "collapsed": false
   }
  },
  {
   "cell_type": "code",
   "execution_count": 22,
   "outputs": [
    {
     "data": {
      "text/plain": "Jersey Number\n10.0    128\n8.0     109\n7.0     101\n1.0      98\n11.0     95\nName: Jersey Number, dtype: int64"
     },
     "metadata": {},
     "output_type": "execute_result",
     "execution_count": 22
    }
   ],
   "source": [
    "players[players['Overall'] >= 75].groupby('Jersey Number')['Jersey Number'].count().sort_values(ascending = False).head()\n"
   ],
   "metadata": {
    "collapsed": false,
    "pycharm": {
     "name": "#%%\n",
     "is_executing": false
    }
   }
  },
  {
   "cell_type": "markdown",
   "source": [
    "<font color=yellow> Result: Best players mostly choose 10, 8 and 7 jersey numbers.\n"
   ],
   "metadata": {
    "collapsed": false
   }
  },
  {
   "cell_type": "markdown",
   "source": [
    "### <center> <font color = darkorange> Question: Are player clubs are effective on potential growths?\n"
   ],
   "metadata": {
    "collapsed": false
   }
  },
  {
   "cell_type": "markdown",
   "source": [
    "<font color = yellow> To answer this question, we find average growth of players being younger than 25 years old of the clubs.\n"
   ],
   "metadata": {
    "collapsed": false
   }
  },
  {
   "cell_type": "code",
   "execution_count": 23,
   "outputs": [
    {
     "data": {
      "text/plain": "Club\nCrewe Alexandra               13.200000\nStabæk Fotball                13.090909\nLeeds United                  12.611111\nGalatasaray SK                12.500000\nMelbourne City FC             12.400000\nIndependiente Medellín        12.333333\nRosenborg BK                  12.076923\nDerry City                    12.066667\nFC Zürich                     12.058824\nSK Sturm Graz                 12.000000\nColo-Colo                     11.933333\nStoke City                    11.916667\nFC Bayern München             11.875000\nBray Wanderers                11.823529\nAlanyaspor                    11.777778\nAberdeen                      11.764706\nVålerenga Fotball             11.764706\nFC Nordsjælland               11.720000\nHeart of Midlothian           11.687500\nManchester City               11.650000\nOdds BK                       11.600000\nShamrock Rovers               11.562500\nAC Ajaccio                    11.555556\nFC Basel 1893                 11.529412\nAston Villa                   11.500000\nNewcastle United              11.470588\nMiddlesbrough                 11.466667\nHamburger SV                  11.454545\nBohemian FC                   11.450000\nWaterford FC                  11.437500\n                                ...    \nMontreal Impact                6.133333\nJeonnam Dragons                6.076923\nSV Mattersburg                 6.076923\nAl Hazem                       6.071429\nCD Numancia                    6.058824\nCD Nacional                    6.055556\nLazio                          6.047619\nSK Rapid Wien                  6.047619\nVitória Guimarães              6.045455\nGD Chaves                      6.000000\nKV Kortrijk                    6.000000\nGrenoble Foot 38               5.888889\nCerezo Osaka                   5.875000\nShandong Luneng TaiShan FC     5.785714\nPort Vale                      5.714286\nHokkaido Consadole Sapporo     5.642857\nSanta Clara                    5.642857\nSC Braga                       5.611111\nCD Aves                        5.571429\nSan Jose Earthquakes           5.500000\nOs Belenenses                  5.454545\nTSV 1860 München               5.444444\nCD Feirense                    5.363636\nDalian YiFang FC               5.333333\nVegalta Sendai                 5.300000\nKawasaki Frontale              4.916667\nSV Sandhausen                  4.882353\nClube Sport Marítimo           4.727273\nInter                          4.200000\nSangju Sangmu FC               3.800000\nName: Growth, Length: 636, dtype: float64"
     },
     "metadata": {},
     "output_type": "execute_result",
     "execution_count": 23
    }
   ],
   "source": [
    "players[players['Age'] <= 25].groupby('Club')['Growth'].mean().sort_values(ascending = False)\n"
   ],
   "metadata": {
    "collapsed": false,
    "pycharm": {
     "name": "#%%\n",
     "is_executing": false
    }
   }
  },
  {
   "cell_type": "markdown",
   "source": [
    "<font color=yellow> Result: Unless the expected, some less known clubs have potentially growing young players.\n"
   ],
   "metadata": {
    "collapsed": false
   }
  },
  {
   "cell_type": "markdown",
   "source": [
    "### <center> <font color = darkorange> Question: In the same value and wage boundary, what would be the most important 3 attributes of a player while buying a player?\n"
   ],
   "metadata": {
    "collapsed": false
   }
  },
  {
   "cell_type": "markdown",
   "source": [
    "<font color = yellow> To answer this question, we examined players around mean value and wage. \n"
   ],
   "metadata": {
    "collapsed": false
   }
  },
  {
   "cell_type": "code",
   "execution_count": 24,
   "outputs": [
    {
     "data": {
      "text/plain": "                 Name  Age  Overall  Potential                     Club  \\\n5613         E. Löwen   21       70         80           1. FC Nürnberg   \n5480    M. Ingvartsen   22       70         77                 KRC Genk   \n5273        Marc Gual   22       70         77            Real Zaragoza   \n4247       E. Horvath   23       71         77           Club Brugge KV   \n5389     D. Milošević   23       70         75         Atiker Konyaspor   \n5174          G. Kerk   22       70         75               FC Utrecht   \n5159       Wei Shihao   23       70         75  Beijing Sinobo Guoan FC   \n5072       L. Ajorque   24       70         75     RC Strasbourg Alsace   \n4951       C. Dessers   23       70         75               FC Utrecht   \n4857         C. Şahin   23       70         75             FC St. Pauli   \n4563          K. Boli   27       71         74      Guizhou Hengfeng FC   \n5428          Z. Gano   24       70         74                 KRC Genk   \n3993       G. Bettini   25       71         74          Rosario Central   \n4475       S. Klaiber   23       71         74               FC Utrecht   \n4682       O. Haddadi   26       71         74                Dijon FCO   \n4726           C. Fai   25       71         73        Standard de Liège   \n3060     A. Domínguez   31       73         73          Vélez Sarsfield   \n3105     C. Rigamonti   31       73         73      Belgrano de Córdoba   \n4530        L. Sadiku   26       71         73             Kasimpaşa SK   \n4149       M. Capuano   26       71         73                Frosinone   \n3504        Su Boyang   29       72         73      Guizhou Hengfeng FC   \n3884       R. Delgado   28       72         72       Defensa y Justicia   \n3836        C. Basham   29       72         72         Sheffield United   \n3305     D. Milićević   32       72         72                KAS Eupen   \n3251        T. Aoyama   32       72         72      Sanfrecce Hiroshima   \n4661       L. Mareček   28       71         71         Sporting Lokeren   \n4745         L. Lollo   27       71         71                   Empoli   \n4342  Adeilson Gesser   26       71         71                    Bahia   \n4099        C. Moritz   28       71         71             Hamburger SV   \n4060       X. Mercier   28       71         71        KSV Cercle Brugge   \n4534        M. Büchel   27       71         71                   Empoli   \n\n      Value  Wage Contract Valid Until Release Clause  \n5613  €2.5M   €9K                 2022            €5M  \n5480  €2.5M   €9K                 2021          €4.3M  \n5273  €2.5M   €9K         Jun 30, 2019            NaN  \n4247  €2.4M   €9K                 2021            €4M  \n5389  €2.4M   €9K                 2019          €4.9M  \n5174  €2.4M  €10K                 2022          €3.8M  \n5159  €2.4M   €9K                 2021          €5.4M  \n5072  €2.4M  €10K                 2022            €5M  \n4951  €2.4M  €10K                 2020          €3.8M  \n4857  €2.4M   €9K                 2021            €4M  \n4563  €2.4M   €9K                 2019          €5.3M  \n5428  €2.4M   €9K                 2022          €3.7M  \n3993  €2.4M   €9K         Jun 30, 2019            NaN  \n4475  €2.5M   €9K                 2021          €3.9M  \n4682  €2.4M   €9K                 2019            €5M  \n4726  €2.4M   €9K                 2020          €3.7M  \n3060  €2.4M  €10K                 2021          €3.6M  \n3105  €2.4M  €10K                 2021          €3.5M  \n4530  €2.4M   €9K                 2019          €4.9M  \n4149  €2.4M  €10K                 2021          €4.5M  \n3504  €2.4M   €9K                 2019          €5.4M  \n3884  €2.5M  €10K                 2023          €3.7M  \n3836  €2.4M  €10K                 2021          €4.6M  \n3305  €2.4M  €10K                 2020          €3.6M  \n3251  €2.4M  €10K                 2023          €2.9M  \n4661  €2.4M  €10K                 2021          €3.5M  \n4745  €2.4M  €10K                 2021          €4.4M  \n4342  €2.5M   €9K                 2021          €4.8M  \n4099  €2.4M  €10K                 2020          €3.8M  \n4060  €2.4M  €10K                 2020          €3.5M  \n4534  €2.4M  €10K                 2019          €4.4M  ",
      "text/html": "<div>\n<style scoped>\n    .dataframe tbody tr th:only-of-type {\n        vertical-align: middle;\n    }\n\n    .dataframe tbody tr th {\n        vertical-align: top;\n    }\n\n    .dataframe thead th {\n        text-align: right;\n    }\n</style>\n<table border=\"1\" class=\"dataframe\">\n  <thead>\n    <tr style=\"text-align: right;\">\n      <th></th>\n      <th>Name</th>\n      <th>Age</th>\n      <th>Overall</th>\n      <th>Potential</th>\n      <th>Club</th>\n      <th>Value</th>\n      <th>Wage</th>\n      <th>Contract Valid Until</th>\n      <th>Release Clause</th>\n    </tr>\n  </thead>\n  <tbody>\n    <tr>\n      <th>5613</th>\n      <td>E. Löwen</td>\n      <td>21</td>\n      <td>70</td>\n      <td>80</td>\n      <td>1. FC Nürnberg</td>\n      <td>€2.5M</td>\n      <td>€9K</td>\n      <td>2022</td>\n      <td>€5M</td>\n    </tr>\n    <tr>\n      <th>5480</th>\n      <td>M. Ingvartsen</td>\n      <td>22</td>\n      <td>70</td>\n      <td>77</td>\n      <td>KRC Genk</td>\n      <td>€2.5M</td>\n      <td>€9K</td>\n      <td>2021</td>\n      <td>€4.3M</td>\n    </tr>\n    <tr>\n      <th>5273</th>\n      <td>Marc Gual</td>\n      <td>22</td>\n      <td>70</td>\n      <td>77</td>\n      <td>Real Zaragoza</td>\n      <td>€2.5M</td>\n      <td>€9K</td>\n      <td>Jun 30, 2019</td>\n      <td>NaN</td>\n    </tr>\n    <tr>\n      <th>4247</th>\n      <td>E. Horvath</td>\n      <td>23</td>\n      <td>71</td>\n      <td>77</td>\n      <td>Club Brugge KV</td>\n      <td>€2.4M</td>\n      <td>€9K</td>\n      <td>2021</td>\n      <td>€4M</td>\n    </tr>\n    <tr>\n      <th>5389</th>\n      <td>D. Milošević</td>\n      <td>23</td>\n      <td>70</td>\n      <td>75</td>\n      <td>Atiker Konyaspor</td>\n      <td>€2.4M</td>\n      <td>€9K</td>\n      <td>2019</td>\n      <td>€4.9M</td>\n    </tr>\n    <tr>\n      <th>5174</th>\n      <td>G. Kerk</td>\n      <td>22</td>\n      <td>70</td>\n      <td>75</td>\n      <td>FC Utrecht</td>\n      <td>€2.4M</td>\n      <td>€10K</td>\n      <td>2022</td>\n      <td>€3.8M</td>\n    </tr>\n    <tr>\n      <th>5159</th>\n      <td>Wei Shihao</td>\n      <td>23</td>\n      <td>70</td>\n      <td>75</td>\n      <td>Beijing Sinobo Guoan FC</td>\n      <td>€2.4M</td>\n      <td>€9K</td>\n      <td>2021</td>\n      <td>€5.4M</td>\n    </tr>\n    <tr>\n      <th>5072</th>\n      <td>L. Ajorque</td>\n      <td>24</td>\n      <td>70</td>\n      <td>75</td>\n      <td>RC Strasbourg Alsace</td>\n      <td>€2.4M</td>\n      <td>€10K</td>\n      <td>2022</td>\n      <td>€5M</td>\n    </tr>\n    <tr>\n      <th>4951</th>\n      <td>C. Dessers</td>\n      <td>23</td>\n      <td>70</td>\n      <td>75</td>\n      <td>FC Utrecht</td>\n      <td>€2.4M</td>\n      <td>€10K</td>\n      <td>2020</td>\n      <td>€3.8M</td>\n    </tr>\n    <tr>\n      <th>4857</th>\n      <td>C. Şahin</td>\n      <td>23</td>\n      <td>70</td>\n      <td>75</td>\n      <td>FC St. Pauli</td>\n      <td>€2.4M</td>\n      <td>€9K</td>\n      <td>2021</td>\n      <td>€4M</td>\n    </tr>\n    <tr>\n      <th>4563</th>\n      <td>K. Boli</td>\n      <td>27</td>\n      <td>71</td>\n      <td>74</td>\n      <td>Guizhou Hengfeng FC</td>\n      <td>€2.4M</td>\n      <td>€9K</td>\n      <td>2019</td>\n      <td>€5.3M</td>\n    </tr>\n    <tr>\n      <th>5428</th>\n      <td>Z. Gano</td>\n      <td>24</td>\n      <td>70</td>\n      <td>74</td>\n      <td>KRC Genk</td>\n      <td>€2.4M</td>\n      <td>€9K</td>\n      <td>2022</td>\n      <td>€3.7M</td>\n    </tr>\n    <tr>\n      <th>3993</th>\n      <td>G. Bettini</td>\n      <td>25</td>\n      <td>71</td>\n      <td>74</td>\n      <td>Rosario Central</td>\n      <td>€2.4M</td>\n      <td>€9K</td>\n      <td>Jun 30, 2019</td>\n      <td>NaN</td>\n    </tr>\n    <tr>\n      <th>4475</th>\n      <td>S. Klaiber</td>\n      <td>23</td>\n      <td>71</td>\n      <td>74</td>\n      <td>FC Utrecht</td>\n      <td>€2.5M</td>\n      <td>€9K</td>\n      <td>2021</td>\n      <td>€3.9M</td>\n    </tr>\n    <tr>\n      <th>4682</th>\n      <td>O. Haddadi</td>\n      <td>26</td>\n      <td>71</td>\n      <td>74</td>\n      <td>Dijon FCO</td>\n      <td>€2.4M</td>\n      <td>€9K</td>\n      <td>2019</td>\n      <td>€5M</td>\n    </tr>\n    <tr>\n      <th>4726</th>\n      <td>C. Fai</td>\n      <td>25</td>\n      <td>71</td>\n      <td>73</td>\n      <td>Standard de Liège</td>\n      <td>€2.4M</td>\n      <td>€9K</td>\n      <td>2020</td>\n      <td>€3.7M</td>\n    </tr>\n    <tr>\n      <th>3060</th>\n      <td>A. Domínguez</td>\n      <td>31</td>\n      <td>73</td>\n      <td>73</td>\n      <td>Vélez Sarsfield</td>\n      <td>€2.4M</td>\n      <td>€10K</td>\n      <td>2021</td>\n      <td>€3.6M</td>\n    </tr>\n    <tr>\n      <th>3105</th>\n      <td>C. Rigamonti</td>\n      <td>31</td>\n      <td>73</td>\n      <td>73</td>\n      <td>Belgrano de Córdoba</td>\n      <td>€2.4M</td>\n      <td>€10K</td>\n      <td>2021</td>\n      <td>€3.5M</td>\n    </tr>\n    <tr>\n      <th>4530</th>\n      <td>L. Sadiku</td>\n      <td>26</td>\n      <td>71</td>\n      <td>73</td>\n      <td>Kasimpaşa SK</td>\n      <td>€2.4M</td>\n      <td>€9K</td>\n      <td>2019</td>\n      <td>€4.9M</td>\n    </tr>\n    <tr>\n      <th>4149</th>\n      <td>M. Capuano</td>\n      <td>26</td>\n      <td>71</td>\n      <td>73</td>\n      <td>Frosinone</td>\n      <td>€2.4M</td>\n      <td>€10K</td>\n      <td>2021</td>\n      <td>€4.5M</td>\n    </tr>\n    <tr>\n      <th>3504</th>\n      <td>Su Boyang</td>\n      <td>29</td>\n      <td>72</td>\n      <td>73</td>\n      <td>Guizhou Hengfeng FC</td>\n      <td>€2.4M</td>\n      <td>€9K</td>\n      <td>2019</td>\n      <td>€5.4M</td>\n    </tr>\n    <tr>\n      <th>3884</th>\n      <td>R. Delgado</td>\n      <td>28</td>\n      <td>72</td>\n      <td>72</td>\n      <td>Defensa y Justicia</td>\n      <td>€2.5M</td>\n      <td>€10K</td>\n      <td>2023</td>\n      <td>€3.7M</td>\n    </tr>\n    <tr>\n      <th>3836</th>\n      <td>C. Basham</td>\n      <td>29</td>\n      <td>72</td>\n      <td>72</td>\n      <td>Sheffield United</td>\n      <td>€2.4M</td>\n      <td>€10K</td>\n      <td>2021</td>\n      <td>€4.6M</td>\n    </tr>\n    <tr>\n      <th>3305</th>\n      <td>D. Milićević</td>\n      <td>32</td>\n      <td>72</td>\n      <td>72</td>\n      <td>KAS Eupen</td>\n      <td>€2.4M</td>\n      <td>€10K</td>\n      <td>2020</td>\n      <td>€3.6M</td>\n    </tr>\n    <tr>\n      <th>3251</th>\n      <td>T. Aoyama</td>\n      <td>32</td>\n      <td>72</td>\n      <td>72</td>\n      <td>Sanfrecce Hiroshima</td>\n      <td>€2.4M</td>\n      <td>€10K</td>\n      <td>2023</td>\n      <td>€2.9M</td>\n    </tr>\n    <tr>\n      <th>4661</th>\n      <td>L. Mareček</td>\n      <td>28</td>\n      <td>71</td>\n      <td>71</td>\n      <td>Sporting Lokeren</td>\n      <td>€2.4M</td>\n      <td>€10K</td>\n      <td>2021</td>\n      <td>€3.5M</td>\n    </tr>\n    <tr>\n      <th>4745</th>\n      <td>L. Lollo</td>\n      <td>27</td>\n      <td>71</td>\n      <td>71</td>\n      <td>Empoli</td>\n      <td>€2.4M</td>\n      <td>€10K</td>\n      <td>2021</td>\n      <td>€4.4M</td>\n    </tr>\n    <tr>\n      <th>4342</th>\n      <td>Adeilson Gesser</td>\n      <td>26</td>\n      <td>71</td>\n      <td>71</td>\n      <td>Bahia</td>\n      <td>€2.5M</td>\n      <td>€9K</td>\n      <td>2021</td>\n      <td>€4.8M</td>\n    </tr>\n    <tr>\n      <th>4099</th>\n      <td>C. Moritz</td>\n      <td>28</td>\n      <td>71</td>\n      <td>71</td>\n      <td>Hamburger SV</td>\n      <td>€2.4M</td>\n      <td>€10K</td>\n      <td>2020</td>\n      <td>€3.8M</td>\n    </tr>\n    <tr>\n      <th>4060</th>\n      <td>X. Mercier</td>\n      <td>28</td>\n      <td>71</td>\n      <td>71</td>\n      <td>KSV Cercle Brugge</td>\n      <td>€2.4M</td>\n      <td>€10K</td>\n      <td>2020</td>\n      <td>€3.5M</td>\n    </tr>\n    <tr>\n      <th>4534</th>\n      <td>M. Büchel</td>\n      <td>27</td>\n      <td>71</td>\n      <td>71</td>\n      <td>Empoli</td>\n      <td>€2.4M</td>\n      <td>€10K</td>\n      <td>2019</td>\n      <td>€4.4M</td>\n    </tr>\n  </tbody>\n</table>\n</div>"
     },
     "metadata": {},
     "output_type": "execute_result",
     "execution_count": 24
    }
   ],
   "source": [
    "average_value = players['Value (K€)'].mean()\n",
    "average_wage = players['Wage (K€)'].mean()\n",
    "players[(average_value - 100 <= players['Value (K€)']) & (players['Value (K€)'] <= average_value + 100) & (average_wage - 1 <= players['Wage (K€)']) & (players['Wage (K€)'] <= average_wage + 1)].sort_values(by = 'Potential', ascending = False)[['Name', 'Age', 'Overall', 'Potential', 'Club', 'Value' ,'Wage', 'Contract Valid Until', 'Release Clause']]\n"
   ],
   "metadata": {
    "collapsed": false,
    "pycharm": {
     "name": "#%%\n",
     "is_executing": false
    }
   }
  },
  {
   "cell_type": "markdown",
   "source": [
    "<font color=yellow> Result: At the same value and wage boundary, player overalls are generally close to each other. However, we can see huge differences on potentials especially on young players. Therefore, we can consider 'Potential' and 'Age' as top 2. On the other hand, we can see differences on release clauses despite the players' same value. Therefore, we can say that 'Release Clause' is the third most important attribute.\n"
   ],
   "metadata": {
    "collapsed": false,
    "pycharm": {
     "name": "#%% md\n"
    }
   }
  },
  {
   "cell_type": "markdown",
   "source": [
    "### <center> <font color = darkorange> Bonus Question: Messi or Ronaldo?\n"
   ],
   "metadata": {
    "collapsed": false
   }
  },
  {
   "cell_type": "code",
   "execution_count": 25,
   "outputs": [
    {
     "data": {
      "text/plain": "       ID               Name  Age  \\\n0  158023           L. Messi   31   \n1   20801  Cristiano Ronaldo   33   \n\n                                            Photo Nationality  \\\n0  https://cdn.sofifa.org/players/4/19/158023.png   Argentina   \n1   https://cdn.sofifa.org/players/4/19/20801.png    Portugal   \n\n                                  Flag  Overall  Potential          Club  \\\n0  https://cdn.sofifa.org/flags/52.png       94         94  FC Barcelona   \n1  https://cdn.sofifa.org/flags/38.png       94         94      Juventus   \n\n                                      Club Logo  ... SlidingTackle GKDiving  \\\n0  https://cdn.sofifa.org/teams/2/light/241.png  ...          26.0      6.0   \n1   https://cdn.sofifa.org/teams/2/light/45.png  ...          23.0      7.0   \n\n   GKHandling GKKicking  GKPositioning  GKReflexes  Release Clause Growth  \\\n0        11.0      15.0           14.0         8.0         €226.5M      0   \n1        11.0      15.0           14.0        11.0         €127.1M      0   \n\n  Value (K€) Wage (K€)  \n0   110500.0     565.0  \n1    77000.0     405.0  \n\n[2 rows x 91 columns]",
      "text/html": "<div>\n<style scoped>\n    .dataframe tbody tr th:only-of-type {\n        vertical-align: middle;\n    }\n\n    .dataframe tbody tr th {\n        vertical-align: top;\n    }\n\n    .dataframe thead th {\n        text-align: right;\n    }\n</style>\n<table border=\"1\" class=\"dataframe\">\n  <thead>\n    <tr style=\"text-align: right;\">\n      <th></th>\n      <th>ID</th>\n      <th>Name</th>\n      <th>Age</th>\n      <th>Photo</th>\n      <th>Nationality</th>\n      <th>Flag</th>\n      <th>Overall</th>\n      <th>Potential</th>\n      <th>Club</th>\n      <th>Club Logo</th>\n      <th>...</th>\n      <th>SlidingTackle</th>\n      <th>GKDiving</th>\n      <th>GKHandling</th>\n      <th>GKKicking</th>\n      <th>GKPositioning</th>\n      <th>GKReflexes</th>\n      <th>Release Clause</th>\n      <th>Growth</th>\n      <th>Value (K€)</th>\n      <th>Wage (K€)</th>\n    </tr>\n  </thead>\n  <tbody>\n    <tr>\n      <th>0</th>\n      <td>158023</td>\n      <td>L. Messi</td>\n      <td>31</td>\n      <td>https://cdn.sofifa.org/players/4/19/158023.png</td>\n      <td>Argentina</td>\n      <td>https://cdn.sofifa.org/flags/52.png</td>\n      <td>94</td>\n      <td>94</td>\n      <td>FC Barcelona</td>\n      <td>https://cdn.sofifa.org/teams/2/light/241.png</td>\n      <td>...</td>\n      <td>26.0</td>\n      <td>6.0</td>\n      <td>11.0</td>\n      <td>15.0</td>\n      <td>14.0</td>\n      <td>8.0</td>\n      <td>€226.5M</td>\n      <td>0</td>\n      <td>110500.0</td>\n      <td>565.0</td>\n    </tr>\n    <tr>\n      <th>1</th>\n      <td>20801</td>\n      <td>Cristiano Ronaldo</td>\n      <td>33</td>\n      <td>https://cdn.sofifa.org/players/4/19/20801.png</td>\n      <td>Portugal</td>\n      <td>https://cdn.sofifa.org/flags/38.png</td>\n      <td>94</td>\n      <td>94</td>\n      <td>Juventus</td>\n      <td>https://cdn.sofifa.org/teams/2/light/45.png</td>\n      <td>...</td>\n      <td>23.0</td>\n      <td>7.0</td>\n      <td>11.0</td>\n      <td>15.0</td>\n      <td>14.0</td>\n      <td>11.0</td>\n      <td>€127.1M</td>\n      <td>0</td>\n      <td>77000.0</td>\n      <td>405.0</td>\n    </tr>\n  </tbody>\n</table>\n<p>2 rows × 91 columns</p>\n</div>"
     },
     "metadata": {},
     "output_type": "execute_result",
     "execution_count": 25
    }
   ],
   "source": [
    "players[(players['Name'] == 'L. Messi') | (players['Name'] == 'Cristiano Ronaldo')]\n"
   ],
   "metadata": {
    "collapsed": false,
    "pycharm": {
     "name": "#%%\n",
     "is_executing": false
    }
   }
  },
  {
   "cell_type": "markdown",
   "source": [
    "<font color=yellow> It is really hard to make decision between them. Instead, let's discuss and compare their attributes and leave the decision to the player.\n",
    "* They both has the same overall however Messi is much more expensive player as value, release clause and wage.\n",
    "* They both are old players however Messi is 2 years younger than Ronaldo. This gives a little advantage about retirement time.\n",
    "* Ronaldo has 5 star skill but Messi has 4. This means Ronaldo can make more special movement during the game.\n",
    "* Ronaldo has \"High/Low\" workrate which means he tends to attack more but does not like helping the defence. Messi has \"Medium/Medium\" workrate which means he has balanced attack and defence tendencies.\n",
    "* Messi generally plays on wings but Ronaldo was considered as centre forward lately.\n",
    "* Ronaldo is taller and has more physical attributes which means he has better headers and more powerful on sholder to sholder interferences. Messi is more lightweight but has great dribbling skills. If player likes distant dribbles, Messi is the great choice.\n",
    "* Messi has much better free kick skills than Ronaldo.\n"
   ],
   "metadata": {
    "collapsed": false
   }
  },
  {
   "cell_type": "markdown",
   "source": [
    "## <center> <font color = darkorange> Conclusion\n",
    "<font color=yellow> We have examined the FIFA 19 Player Database as asking some critial questions and we reached some conclusions. Gamers should pay attention to these while buying players to their teams in FIFA 19 Career Mode:\n",
    "* Young players should be chosen because of cheap prices and great growth ratios.\n",
    "* There is no such rule like best players only occur from well known teams and countries. There are many talents waiting to be discovered in the less known teams and countries. Go search them.\n",
    "* Try to find players who have less contract duration because their release clauses are less and they can be bought much cheaper.\n",
    "* Reserv 10, 8 and 7 jersey numbers for your best players because they like and deserve some special treatment."
   ],
   "metadata": {
    "collapsed": false
   }
  }
 ],
 "metadata": {
  "language_info": {
   "codemirror_mode": {
    "name": "ipython",
    "version": 2
   },
   "file_extension": ".py",
   "mimetype": "text/x-python",
   "name": "python",
   "nbconvert_exporter": "python",
   "pygments_lexer": "ipython2",
   "version": "2.7.6"
  },
  "kernelspec": {
   "name": "python3",
   "language": "python",
   "display_name": "Python 3"
  },
  "stem_cell": {
   "cell_type": "raw",
   "source": "",
   "metadata": {
    "pycharm": {
     "metadata": false
    }
   }
  },
  "pycharm": {
   "stem_cell": {
    "cell_type": "raw",
    "source": [],
    "metadata": {
     "collapsed": false
    }
   }
  }
 },
 "nbformat": 4,
 "nbformat_minor": 0
}